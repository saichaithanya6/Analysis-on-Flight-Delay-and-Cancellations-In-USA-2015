{
 "cells": [
  {
   "cell_type": "markdown",
   "id": "6808cb95-65bc-41e0-bcb3-3e7f8d521854",
   "metadata": {
    "tags": []
   },
   "source": [
    "## Step 1: Data Wrangling and Dimensional Modeling"
   ]
  },
  {
   "cell_type": "markdown",
   "id": "8c5cd3e5-d2b9-4e5f-bc75-e13930b1fca4",
   "metadata": {},
   "source": [
    "### Dataset of \"flights\""
   ]
  },
  {
   "cell_type": "code",
   "execution_count": 1,
   "id": "c8513715-2b45-4b45-aa7a-65eff21226f4",
   "metadata": {},
   "outputs": [
    {
     "name": "stdout",
     "output_type": "stream",
     "text": [
      "/home/ubuntu/notebooks\n"
     ]
    }
   ],
   "source": [
    "!pwd"
   ]
  },
  {
   "cell_type": "code",
   "execution_count": 2,
   "id": "33109329-de92-4e01-8964-d85b54e55f6d",
   "metadata": {},
   "outputs": [
    {
     "name": "stdout",
     "output_type": "stream",
     "text": [
      "1   YEAR\n",
      "2   MONTH\n",
      "3   DAY\n",
      "4   DAY_OF_WEEK\n",
      "5   AIRLINE\n",
      "6   FLIGHT_NUMBER\n",
      "7   TAIL_NUMBER\n",
      "8   ORIGIN_AIRPORT\n",
      "9   DESTINATION_AIRPORT\n",
      "10  SCHEDULED_DEPARTURE\n",
      "11  DEPARTURE_TIME\n",
      "12  DEPARTURE_DELAY\n",
      "13  TAXI_OUT\n",
      "14  WHEELS_OFF\n",
      "15  SCHEDULED_TIME\n",
      "16  ELAPSED_TIME\n",
      "17  AIR_TIME\n",
      "18  DISTANCE\n",
      "19  WHEELS_ON\n",
      "20  TAXI_IN\n",
      "21  SCHEDULED_ARRIVAL\n",
      "22  ARRIVAL_TIME\n",
      "23  ARRIVAL_DELAY\n",
      "24  DIVERTED\n",
      "25  CANCELLED\n",
      "26  CANCELLATION_REASON\n",
      "27  AIR_SYSTEM_DELAY\n",
      "28  SECURITY_DELAY\n",
      "29  AIRLINE_DELAY\n",
      "30  LATE_AIRCRAFT_DELAY\n",
      "31  WEATHER_DELAY\n"
     ]
    }
   ],
   "source": [
    "!xsv headers flights.csv"
   ]
  },
  {
   "cell_type": "markdown",
   "id": "247f82c1-32ea-4270-bb82-48e0a57385fc",
   "metadata": {},
   "source": [
    "There are 31 columns totally in the original dataset."
   ]
  },
  {
   "cell_type": "markdown",
   "id": "e3c7848a-1a01-4eb9-bb35-8f4e705add09",
   "metadata": {},
   "source": [
    "Since we want to remove 14 columns from the dataset and keep 17 columns, we can just select the columns which we want to reverve and create a new dataset called 'flights2'."
   ]
  },
  {
   "cell_type": "markdown",
   "id": "5b2373f3-361d-4267-aa34-1021b19eee3b",
   "metadata": {},
   "source": [
    "1   YEAR \\\n",
    "2   MONTH \\\n",
    "3   DAY \\\n",
    "4   DAY_OF_WEEK \\\n",
    "5   AIRLINE \\\n",
    "6   FLIGHT_NUMBER \\\n",
    "7   TAIL_NUMBER \\\n",
    "8   ORIGIN_AIRPORT \\\n",
    "9   DESTINATION_AIRPORT \\\n",
    "10  SCHEDULED_DEPARTURE \\\n",
    "11  DEPARTURE_TIME \\\n",
    "12  DEPARTURE_DELAY \\\n",
    "21  SCHEDULED_ARRIVAL \\\n",
    "22  ARRIVAL_TIME \\\n",
    "23  ARRIVAL_DELAY \\\n",
    "24  DIVERTED \\\n",
    "25  CANCELLED"
   ]
  },
  {
   "cell_type": "code",
   "execution_count": 3,
   "id": "730f565c-2129-44c5-94a0-738b0e3dea8c",
   "metadata": {},
   "outputs": [],
   "source": [
    "!csvcut -c 1,2,3,4,5,6,7,8,9,10,11,12,21,22,23,24,25 flights.csv > flights2.csv"
   ]
  },
  {
   "cell_type": "markdown",
   "id": "1522611a-c32a-48df-84b3-88f08f915a32",
   "metadata": {},
   "source": [
    "check the number of lines in the flights2 file."
   ]
  },
  {
   "cell_type": "code",
   "execution_count": 4,
   "id": "64040e9b-24b9-44d9-a56f-9c6dd1836a6c",
   "metadata": {},
   "outputs": [
    {
     "name": "stdout",
     "output_type": "stream",
     "text": [
      "2262736 flights2.csv\n"
     ]
    }
   ],
   "source": [
    "!wc -l flights2.csv"
   ]
  },
  {
   "cell_type": "markdown",
   "id": "4f75ea77-9142-4b33-967f-75c0ccad651d",
   "metadata": {},
   "source": [
    "use csvcut -n to find the heading (attribute labels) of the flights2 file"
   ]
  },
  {
   "cell_type": "code",
   "execution_count": 5,
   "id": "ea10f965-6320-4cba-9c81-1c7022233ec2",
   "metadata": {},
   "outputs": [
    {
     "name": "stdout",
     "output_type": "stream",
     "text": [
      "  1: YEAR\n",
      "  2: MONTH\n",
      "  3: DAY\n",
      "  4: DAY_OF_WEEK\n",
      "  5: AIRLINE\n",
      "  6: FLIGHT_NUMBER\n",
      "  7: TAIL_NUMBER\n",
      "  8: ORIGIN_AIRPORT\n",
      "  9: DESTINATION_AIRPORT\n",
      " 10: SCHEDULED_DEPARTURE\n",
      " 11: DEPARTURE_TIME\n",
      " 12: DEPARTURE_DELAY\n",
      " 13: SCHEDULED_ARRIVAL\n",
      " 14: ARRIVAL_TIME\n",
      " 15: ARRIVAL_DELAY\n",
      " 16: DIVERTED\n",
      " 17: CANCELLED\n"
     ]
    }
   ],
   "source": [
    "!csvcut -n flights2.csv"
   ]
  },
  {
   "cell_type": "markdown",
   "id": "c911dcc2-5d01-44eb-bb7e-b3b67000b680",
   "metadata": {},
   "source": [
    "Now there are 17 columns totally in the new dataset, flights2. \\\n",
    "Check the first few rows of the dataset in the 17 fields."
   ]
  },
  {
   "cell_type": "code",
   "execution_count": 6,
   "id": "d05e469b-04ef-432a-aa90-498030579f99",
   "metadata": {},
   "outputs": [
    {
     "name": "stdout",
     "output_type": "stream",
     "text": [
      "YEAR,MONTH,DAY,DAY_OF_WEEK,AIRLINE,FLIGHT_NUMBER,TAIL_NUMBER,ORIGIN_AIRPORT,DESTINATION_AIRPORT,SCHEDULED_DEPARTURE,DEPARTURE_TIME,DEPARTURE_DELAY,SCHEDULED_ARRIVAL,ARRIVAL_TIME,ARRIVAL_DELAY,DIVERTED,CANCELLED\n",
      "2015,1,1,4,AS,98,N407AS,ANC,SEA,0005,2354,-11,0430,0408,-22,0,0\n",
      "2015,1,1,4,AA,2336,N3KUAA,LAX,PBI,0010,0002,-8,0750,0741,-9,0,0\n",
      "2015,1,1,4,US,840,N171US,SFO,CLT,0020,0018,-2,0806,0811,5,0,0\n",
      "2015,1,1,4,AA,258,N3HYAA,LAX,MIA,0020,0015,-5,0805,0756,-9,0,0\n",
      "2015,1,1,4,AS,135,N527AS,SEA,ANC,0025,0024,-1,0320,0259,-21,0,0\n",
      "2015,1,1,4,DL,806,N3730B,SFO,MSP,0025,0020,-5,0602,0610,8,0,0\n",
      "2015,1,1,4,NK,612,N635NK,LAS,MSP,0025,0019,-6,0526,0509,-17,0,0\n",
      "2015,1,1,4,US,2013,N584UW,LAX,CLT,0030,0044,14,0803,0753,-10,0,0\n",
      "2015,1,1,4,AA,1112,N3LAAA,SFO,DFW,0030,0019,-11,0545,0532,-13,0,0\n"
     ]
    }
   ],
   "source": [
    "!head -n 10 flights2.csv"
   ]
  },
  {
   "cell_type": "markdown",
   "id": "41350c0d-aa94-4eb3-bf88-094358ca6f4e",
   "metadata": {},
   "source": [
    "Then we can use xsv stat to summarize the statistical information of each column."
   ]
  },
  {
   "cell_type": "code",
   "execution_count": 7,
   "id": "eabe8726-ccc1-45e7-a382-0b976513982f",
   "metadata": {},
   "outputs": [
    {
     "name": "stdout",
     "output_type": "stream",
     "text": [
      "field                type     sum         min     max     min_length  max_length  mean                  stddev\n",
      "YEAR                 Integer  4559411025  2015    2015    4           4           2015                  0\n",
      "MONTH                Integer  6652455     1       5       1           1           2.9400062313967723    1.375729171228196\n",
      "DAY                  Integer  33875698    1       31      1           2           14.971129186582685    8.485016498392879\n",
      "DAY_OF_WEEK          Integer  8935466     1       7       1           1           3.9489670686139298    1.977531473658097\n",
      "AIRLINE              Unicode              AA      WN      2           2                                 \n",
      "FLIGHT_NUMBER        Integer  5012085730  1       9794    1           4           2215.0564383368933    1781.225542621549\n",
      "TAIL_NUMBER          Unicode              D942DN  N9EAMQ  0           6                                 \n",
      "ORIGIN_AIRPORT       Unicode              ABE     YUM     3           3                                 \n",
      "DESTINATION_AIRPORT  Unicode              ABE     YUM     3           3                                 \n",
      "SCHEDULED_DEPARTURE  Integer  3004206404  1       2359    4           4           1327.6881313985978    478.98642544062716\n",
      "DEPARTURE_TIME       Integer  2955505626  1       2400    0           4           1335.570634402728     490.7404315482859\n",
      "DEPARTURE_DELAY      Integer  20893498    -68     1988    0           4           9.441613689810575     36.71032729360485\n",
      "SCHEDULED_ARRIVAL    Integer  3393235668  1       2400    0           4           1499.6175723703143    499.4755010694919\n",
      "ARRIVAL_TIME         Integer  3281638554  1       2400    0           4           1484.7880930587874    518.2946204337411\n",
      "ARRIVAL_DELAY        Integer  11180116    -87     1971    0           4           5.068480904084074     39.16894556424474\n",
      "DIVERTED             Integer  5526        0       1       0           1           0.002442178355918362  0.04935801982247691\n",
      "CANCELLED            Integer  51396       0       1       0           1           0.022714114871654336  0.14899054955685065\n"
     ]
    }
   ],
   "source": [
    "!xsv select 1,2,3,4,5,6,7,8,9,10,11,12,13,14,15,16,17 flights2.csv | xsv stats | xsv table"
   ]
  },
  {
   "cell_type": "markdown",
   "id": "d0e72505-46c7-4850-8003-e124012c442b",
   "metadata": {},
   "source": [
    "### check of unique data"
   ]
  },
  {
   "cell_type": "code",
   "execution_count": 8,
   "id": "a6041ed4-1bd5-465b-b7f1-469226f19d39",
   "metadata": {
    "tags": []
   },
   "outputs": [
    {
     "name": "stdout",
     "output_type": "stream",
     "text": [
      "  1. \"YEAR\"\n",
      "\n",
      "\tType of data:          Number\n",
      "\tContains null values:  False\n",
      "\tUnique values:         1\n",
      "\tSmallest value:        2015\n",
      "\tLargest value:         2015\n",
      "\tSum:                   117250835\n",
      "\tMean:                  2015\n",
      "\tMedian:                2015\n",
      "\tStDev:                 0\n",
      "\tMost common values:    2015 (58189x)\n",
      "\n",
      "  2. \"MONTH\"\n",
      "\n",
      "\tType of data:          Boolean\n",
      "\tContains null values:  False\n",
      "\tUnique values:         1\n",
      "\tMost common values:    True (58189x)\n",
      "\n",
      "  3. \"DAY\"\n",
      "\n",
      "\tType of data:          Number\n",
      "\tContains null values:  False\n",
      "\tUnique values:         4\n",
      "\tSmallest value:        1\n",
      "\tLargest value:         4\n",
      "\tSum:                   141990\n",
      "\tMean:                  2.44\n",
      "\tMedian:                2\n",
      "\tStDev:                 1.068\n",
      "\tMost common values:    2 (16741x)\n",
      "\t                       3 (15434x)\n",
      "\t                       1 (13950x)\n",
      "\t                       4 (12064x)\n",
      "\n",
      "  4. \"DAY_OF_WEEK\"\n",
      "\n",
      "\tType of data:          Number\n",
      "\tContains null values:  False\n",
      "\tUnique values:         4\n",
      "\tSmallest value:        4\n",
      "\tLargest value:         7\n",
      "\tSum:                   316557\n",
      "\tMean:                  5.44\n",
      "\tMedian:                5\n",
      "\tStDev:                 1.068\n",
      "\tMost common values:    5 (16741x)\n",
      "\t                       6 (15434x)\n",
      "\t                       4 (13950x)\n",
      "\t                       7 (12064x)\n",
      "\n",
      "  5. \"AIRLINE\"\n",
      "\n",
      "\tType of data:          Text\n",
      "\tContains null values:  False\n",
      "\tUnique values:         14\n",
      "\tLongest value:         2 characters\n",
      "\tMost common values:    WN (12110x)\n",
      "\t                       DL (7521x)\n",
      "\t                       EV (6329x)\n",
      "\t                       OO (6233x)\n",
      "\t                       AA (5627x)\n",
      "\n",
      "  6. \"FLIGHT_NUMBER\"\n",
      "\n",
      "\tType of data:          Number\n",
      "\tContains null values:  False\n",
      "\tUnique values:         5722\n",
      "\tSmallest value:        1\n",
      "\tLargest value:         7438\n",
      "\tSum:                   131018008\n",
      "\tMean:                  2251.594\n",
      "\tMedian:                1690\n",
      "\tStDev:                 1821.479\n",
      "\tMost common values:    341 (49x)\n",
      "\t                       404 (42x)\n",
      "\t                       403 (40x)\n",
      "\t                       383 (38x)\n",
      "\t                       760 (38x)\n",
      "\n",
      "  7. \"TAIL_NUMBER\"\n",
      "\n",
      "\tType of data:          Text\n",
      "\tContains null values:  True (excluded from calculations)\n",
      "\tUnique values:         4108\n",
      "\tLongest value:         6 characters\n",
      "\tMost common values:    None (62x)\n",
      "\t                       N476HA (51x)\n",
      "\t                       N484HA (49x)\n",
      "\t                       N481HA (46x)\n",
      "\t                       N492HA (45x)\n",
      "\n",
      "  8. \"ORIGIN_AIRPORT\"\n",
      "\n",
      "\tType of data:          Text\n",
      "\tContains null values:  False\n",
      "\tUnique values:         312\n",
      "\tLongest value:         3 characters\n",
      "\tMost common values:    ATL (3411x)\n",
      "\t                       DFW (2921x)\n",
      "\t                       ORD (2807x)\n",
      "\t                       DEN (2297x)\n",
      "\t                       LAX (2208x)\n",
      "\n",
      "  9. \"DESTINATION_AIRPORT\"\n",
      "\n",
      "\tType of data:          Text\n",
      "\tContains null values:  False\n",
      "\tUnique values:         312\n",
      "\tLongest value:         3 characters\n",
      "\tMost common values:    ATL (3553x)\n",
      "\t                       DFW (3000x)\n",
      "\t                       ORD (2877x)\n",
      "\t                       DEN (2350x)\n",
      "\t                       LAX (2190x)\n",
      "\n",
      " 10. \"SCHEDULED_DEPARTURE\"\n",
      "\n",
      "\tType of data:          Number\n",
      "\tContains null values:  False\n",
      "\tUnique values:         1117\n",
      "\tSmallest value:        5\n",
      "\tLargest value:         2359\n",
      "\tSum:                   75609451\n",
      "\tMean:                  1299.377\n",
      "\tMedian:                1300\n",
      "\tStDev:                 464.204\n",
      "\tMost common values:    600 (1219x)\n",
      "\t                       700 (795x)\n",
      "\t                       800 (641x)\n",
      "\t                       900 (403x)\n",
      "\t                       630 (380x)\n",
      "\n",
      " 11. \"DEPARTURE_TIME\"\n",
      "\n",
      "\tType of data:          Number\n",
      "\tContains null values:  True (excluded from calculations)\n",
      "\tUnique values:         1318\n",
      "\tSmallest value:        1\n",
      "\tLargest value:         2400\n",
      "\tSum:                   75067743\n",
      "\tMean:                  1319.501\n",
      "\tMedian:                1319\n",
      "\tStDev:                 482.678\n",
      "\tMost common values:    None (1298x)\n",
      "\t                       559 (136x)\n",
      "\t                       600 (133x)\n",
      "\t                       556 (130x)\n",
      "\t                       557 (121x)\n",
      "\n",
      " 12. \"DEPARTURE_DELAY\"\n",
      "\n",
      "\tType of data:          Number\n",
      "\tContains null values:  True (excluded from calculations)\n",
      "\tUnique values:         438\n",
      "\tSmallest value:        -39\n",
      "\tLargest value:         1380\n",
      "\tSum:                   1033083\n",
      "\tMean:                  18.159\n",
      "\tMedian:                2\n",
      "\tStDev:                 44.185\n",
      "\tMost common values:    -1 (3374x)\n",
      "\t                       -2 (3337x)\n",
      "\t                       -3 (3258x)\n",
      "\t                       -4 (3101x)\n",
      "\t                       0 (3078x)\n",
      "\n",
      " 13. \"SCHEDULED_ARRIVAL\"\n",
      "\n",
      "\tType of data:          Number\n",
      "\tContains null values:  False\n",
      "\tUnique values:         1273\n",
      "\tSmallest value:        1\n",
      "\tLargest value:         2359\n",
      "\tSum:                   86183929\n",
      "\tMean:                  1481.103\n",
      "\tMedian:                1505\n",
      "\tStDev:                 481.598\n",
      "\tMost common values:    1210 (235x)\n",
      "\t                       1650 (223x)\n",
      "\t                       1905 (222x)\n",
      "\t                       925 (216x)\n",
      "\t                       1430 (216x)\n",
      "\n",
      " 14. \"ARRIVAL_TIME\"\n",
      "\n",
      "\tType of data:          Number\n",
      "\tContains null values:  True (excluded from calculations)\n",
      "\tUnique values:         1382\n",
      "\tSmallest value:        1\n",
      "\tLargest value:         2400\n",
      "\tSum:                   83442279\n",
      "\tMean:                  1468.408\n",
      "\tMedian:                1506\n",
      "\tStDev:                 516.27\n",
      "\tMost common values:    None (1364x)\n",
      "\t                       1228 (88x)\n",
      "\t                       1801 (87x)\n",
      "\t                       1255 (84x)\n",
      "\t                       1614 (82x)\n",
      "\n",
      " 15. \"ARRIVAL_DELAY\"\n",
      "\n",
      "\tType of data:          Number\n",
      "\tContains null values:  True (excluded from calculations)\n",
      "\tUnique values:         458\n",
      "\tSmallest value:        -54\n",
      "\tLargest value:         1384\n",
      "\tSum:                   941703\n",
      "\tMean:                  16.602\n",
      "\tMedian:                4\n",
      "\tStDev:                 46.937\n",
      "\tMost common values:    None (1467x)\n",
      "\t                       -6 (1344x)\n",
      "\t                       -5 (1279x)\n",
      "\t                       -2 (1248x)\n",
      "\t                       -8 (1246x)\n",
      "\n",
      " 16. \"DIVERTED\"\n",
      "\n",
      "\tType of data:          Boolean\n",
      "\tContains null values:  False\n",
      "\tUnique values:         2\n",
      "\tMost common values:    False (58059x)\n",
      "\t                       True (130x)\n",
      "\n",
      " 17. \"CANCELLED\"\n",
      "\n",
      "\tType of data:          Boolean\n",
      "\tContains null values:  False\n",
      "\tUnique values:         2\n",
      "\tMost common values:    False (56852x)\n",
      "\t                       True (1337x)\n",
      "\n",
      "Row count: 58189\n"
     ]
    }
   ],
   "source": [
    "!head -n 58190 flights2.csv | csvstat"
   ]
  },
  {
   "cell_type": "markdown",
   "id": "97f38d1f-7cf4-4e73-bee8-9026c5e5a5ce",
   "metadata": {},
   "source": [
    "### Dataset of \"airlines\""
   ]
  },
  {
   "cell_type": "code",
   "execution_count": 9,
   "id": "b4b7c455-c644-4b95-876d-2785c1f16177",
   "metadata": {},
   "outputs": [
    {
     "name": "stdout",
     "output_type": "stream",
     "text": [
      "1   IATA_CODE\n",
      "2   AIRLINE\n"
     ]
    }
   ],
   "source": [
    "!xsv headers airlines.csv"
   ]
  },
  {
   "cell_type": "markdown",
   "id": "c637912c-53bd-4e18-86c2-12bee6df0659",
   "metadata": {},
   "source": [
    "Check the number of lines in the airlines file."
   ]
  },
  {
   "cell_type": "code",
   "execution_count": 10,
   "id": "c41886c7-551c-442c-bc34-22f90e2e362c",
   "metadata": {},
   "outputs": [
    {
     "name": "stdout",
     "output_type": "stream",
     "text": [
      "15 airlines.csv\n"
     ]
    }
   ],
   "source": [
    "!wc -l airlines.csv"
   ]
  },
  {
   "cell_type": "code",
   "execution_count": 11,
   "id": "e8d545c2-59ed-416a-959b-229af8f3e476",
   "metadata": {},
   "outputs": [
    {
     "name": "stdout",
     "output_type": "stream",
     "text": [
      "IATA_CODE,AIRLINE\n",
      "UA,United Air Lines Inc.\n",
      "AA,American Airlines Inc.\n",
      "US,US Airways Inc.\n",
      "F9,Frontier Airlines Inc.\n",
      "B6,JetBlue Airways\n",
      "OO,Skywest Airlines Inc.\n",
      "AS,Alaska Airlines Inc.\n",
      "NK,Spirit Air Lines\n",
      "WN,Southwest Airlines Co.\n",
      "DL,Delta Air Lines Inc.\n",
      "EV,Atlantic Southeast Airlines\n",
      "HA,Hawaiian Airlines Inc.\n",
      "MQ,American Eagle Airlines Inc.\n",
      "VX,Virgin America\n"
     ]
    }
   ],
   "source": [
    "!head -n 15 airlines.csv"
   ]
  },
  {
   "cell_type": "code",
   "execution_count": 12,
   "id": "41e12238-cea6-4f14-88b0-700963893186",
   "metadata": {},
   "outputs": [
    {
     "name": "stdout",
     "output_type": "stream",
     "text": [
      "  1. \"IATA_CODE\"\n",
      "\n",
      "\tType of data:          Text\n",
      "\tContains null values:  False\n",
      "\tUnique values:         14\n",
      "\tLongest value:         2 characters\n",
      "\tMost common values:    UA (1x)\n",
      "\t                       AA (1x)\n",
      "\t                       US (1x)\n",
      "\t                       F9 (1x)\n",
      "\t                       B6 (1x)\n",
      "\n",
      "  2. \"AIRLINE\"\n",
      "\n",
      "\tType of data:          Text\n",
      "\tContains null values:  False\n",
      "\tUnique values:         14\n",
      "\tLongest value:         28 characters\n",
      "\tMost common values:    United Air Lines Inc. (1x)\n",
      "\t                       American Airlines Inc. (1x)\n",
      "\t                       US Airways Inc. (1x)\n",
      "\t                       Frontier Airlines Inc. (1x)\n",
      "\t                       JetBlue Airways (1x)\n",
      "\n",
      "Row count: 14\n"
     ]
    }
   ],
   "source": [
    "!head -n 15 airlines.csv | csvstat"
   ]
  },
  {
   "cell_type": "markdown",
   "id": "89cf2448-bd91-442a-9c18-fd0373500bf7",
   "metadata": {},
   "source": [
    "### Dataset of \"airports\""
   ]
  },
  {
   "cell_type": "code",
   "execution_count": 13,
   "id": "267036a9-2c76-4e58-a28f-a10d849af7ea",
   "metadata": {},
   "outputs": [
    {
     "name": "stdout",
     "output_type": "stream",
     "text": [
      "1   IATA_CODE\n",
      "2   AIRPORT\n",
      "3   CITY\n",
      "4   STATE\n",
      "5   COUNTRY\n",
      "6   LATITUDE\n",
      "7   LONGITUDE\n"
     ]
    }
   ],
   "source": [
    "!xsv headers airports.csv"
   ]
  },
  {
   "cell_type": "code",
   "execution_count": 14,
   "id": "a10e078f-bc2b-419e-a564-1c124fd05760",
   "metadata": {},
   "outputs": [
    {
     "name": "stdout",
     "output_type": "stream",
     "text": [
      "323 airports.csv\n"
     ]
    }
   ],
   "source": [
    "!wc -l airports.csv"
   ]
  },
  {
   "cell_type": "code",
   "execution_count": 15,
   "id": "a56d1c92-a9bc-4832-8b61-00f36723db84",
   "metadata": {},
   "outputs": [
    {
     "name": "stdout",
     "output_type": "stream",
     "text": [
      "IATA_CODE,AIRPORT,CITY,STATE,COUNTRY,LATITUDE,LONGITUDE\n",
      "ABE,Lehigh Valley International Airport,Allentown,PA,USA,40.65236,-75.44040\n",
      "ABI,Abilene Regional Airport,Abilene,TX,USA,32.41132,-99.68190\n",
      "ABQ,Albuquerque International Sunport,Albuquerque,NM,USA,35.04022,-106.60919\n",
      "ABR,Aberdeen Regional Airport,Aberdeen,SD,USA,45.44906,-98.42183\n",
      "ABY,Southwest Georgia Regional Airport,Albany,GA,USA,31.53552,-84.19447\n",
      "ACK,Nantucket Memorial Airport,Nantucket,MA,USA,41.25305,-70.06018\n",
      "ACT,Waco Regional Airport,Waco,TX,USA,31.61129,-97.23052\n",
      "ACV,Arcata Airport,Arcata/Eureka,CA,USA,40.97812,-124.10862\n",
      "ACY,Atlantic City International Airport,Atlantic City,NJ,USA,39.45758,-74.57717\n"
     ]
    }
   ],
   "source": [
    "!head -n 10 airports.csv"
   ]
  },
  {
   "cell_type": "code",
   "execution_count": 16,
   "id": "40f5b30a-c9b2-4067-9d88-8154119f2af5",
   "metadata": {},
   "outputs": [
    {
     "name": "stdout",
     "output_type": "stream",
     "text": [
      "  1. \"IATA_CODE\"\n",
      "\n",
      "\tType of data:          Text\n",
      "\tContains null values:  False\n",
      "\tUnique values:         322\n",
      "\tLongest value:         3 characters\n",
      "\tMost common values:    ABE (1x)\n",
      "\t                       ABI (1x)\n",
      "\t                       ABQ (1x)\n",
      "\t                       ABR (1x)\n",
      "\t                       ABY (1x)\n",
      "\n",
      "  2. \"AIRPORT\"\n",
      "\n",
      "\tType of data:          Text\n",
      "\tContains null values:  False\n",
      "\tUnique values:         322\n",
      "\tLongest value:         77 characters\n",
      "\tMost common values:    Lehigh Valley International Airport (1x)\n",
      "\t                       Abilene Regional Airport (1x)\n",
      "\t                       Albuquerque International Sunport (1x)\n",
      "\t                       Aberdeen Regional Airport (1x)\n",
      "\t                       Southwest Georgia Regional Airport (1x)\n",
      "\n",
      "  3. \"CITY\"\n",
      "\n",
      "\tType of data:          Text\n",
      "\tContains null values:  False\n",
      "\tUnique values:         308\n",
      "\tLongest value:         30 characters\n",
      "\tMost common values:    Albany (2x)\n",
      "\t                       Columbia (2x)\n",
      "\t                       Charleston (2x)\n",
      "\t                       San Diego (2x)\n",
      "\t                       Columbus (2x)\n",
      "\n",
      "  4. \"STATE\"\n",
      "\n",
      "\tType of data:          Text\n",
      "\tContains null values:  False\n",
      "\tUnique values:         54\n",
      "\tLongest value:         2 characters\n",
      "\tMost common values:    TX (24x)\n",
      "\t                       CA (22x)\n",
      "\t                       AK (19x)\n",
      "\t                       FL (17x)\n",
      "\t                       MI (15x)\n",
      "\n",
      "  5. \"COUNTRY\"\n",
      "\n",
      "\tType of data:          Text\n",
      "\tContains null values:  False\n",
      "\tUnique values:         1\n",
      "\tLongest value:         3 characters\n",
      "\tMost common values:    USA (322x)\n",
      "\n",
      "  6. \"LATITUDE\"\n",
      "\n",
      "\tType of data:          Number\n",
      "\tContains null values:  True (excluded from calculations)\n",
      "\tUnique values:         320\n",
      "\tSmallest value:        13.483\n",
      "\tLargest value:         71.285\n",
      "\tSum:                   12435.017\n",
      "\tMean:                  38.981\n",
      "\tMedian:                39.298\n",
      "\tStDev:                 8.617\n",
      "\tMost common values:    None (3x)\n",
      "\t                       40.652 (1x)\n",
      "\t                       32.411 (1x)\n",
      "\t                       35.04 (1x)\n",
      "\t                       45.449 (1x)\n",
      "\n",
      "  7. \"LONGITUDE\"\n",
      "\n",
      "\tType of data:          Number\n",
      "\tContains null values:  True (excluded from calculations)\n",
      "\tUnique values:         320\n",
      "\tSmallest value:        -176.646\n",
      "\tLargest value:         -64.799\n",
      "\tSum:                   -31382.89\n",
      "\tMean:                  -98.379\n",
      "\tMedian:                -93.403\n",
      "\tStDev:                 21.523\n",
      "\tMost common values:    None (3x)\n",
      "\t                       -75.44 (1x)\n",
      "\t                       -99.682 (1x)\n",
      "\t                       -106.609 (1x)\n",
      "\t                       -98.422 (1x)\n",
      "\n",
      "Row count: 322\n"
     ]
    }
   ],
   "source": [
    "!head -n 323 airports.csv | csvstat"
   ]
  },
  {
   "cell_type": "code",
   "execution_count": 17,
   "id": "61832005-abcb-4130-a342-6aa9e5b38bcd",
   "metadata": {},
   "outputs": [
    {
     "name": "stdout",
     "output_type": "stream",
     "text": [
      "ipython-sql==0.4.1\n",
      "psycopg2==2.9.5\n",
      "psycopg2-binary==2.9.5\n"
     ]
    }
   ],
   "source": [
    "! pip freeze | grep -E 'ipython-sql|psycopg2'"
   ]
  },
  {
   "cell_type": "code",
   "execution_count": 18,
   "id": "d54ce03c-f974-46f6-9c67-ea3196eb2e1f",
   "metadata": {},
   "outputs": [],
   "source": [
    "! dropdb -U student group1"
   ]
  },
  {
   "cell_type": "code",
   "execution_count": 19,
   "id": "26dc0a14-1dfe-4f39-b2d8-5b0a8b464821",
   "metadata": {},
   "outputs": [],
   "source": [
    "! createdb -U student group1"
   ]
  },
  {
   "cell_type": "code",
   "execution_count": 20,
   "id": "06747416-ac66-4157-9287-89ecdbb7348e",
   "metadata": {},
   "outputs": [],
   "source": [
    "%load_ext sql"
   ]
  },
  {
   "cell_type": "code",
   "execution_count": 21,
   "id": "762879b9-d184-4799-8e59-dc325038c990",
   "metadata": {},
   "outputs": [],
   "source": [
    "%sql postgresql://student@/group1"
   ]
  },
  {
   "cell_type": "code",
   "execution_count": 22,
   "id": "78b24b39-e904-46b9-a16e-3ad393ecc188",
   "metadata": {},
   "outputs": [
    {
     "name": "stdout",
     "output_type": "stream",
     "text": [
      "psql (PostgreSQL) 12.12 (Ubuntu 12.12-0ubuntu0.20.04.1)\n"
     ]
    }
   ],
   "source": [
    "!psql --version"
   ]
  },
  {
   "cell_type": "markdown",
   "id": "1efab4f7-f7ec-4e60-8cb9-0fcab7eed6f1",
   "metadata": {},
   "source": [
    "### Create F_flights Table"
   ]
  },
  {
   "cell_type": "code",
   "execution_count": 23,
   "id": "ac7f7f39-d3b2-4614-a622-d0c437f7a968",
   "metadata": {},
   "outputs": [
    {
     "name": "stdout",
     "output_type": "stream",
     "text": [
      " * postgresql://student@/group1\n",
      "Done.\n",
      "Done.\n"
     ]
    },
    {
     "data": {
      "text/plain": [
       "[]"
      ]
     },
     "execution_count": 23,
     "metadata": {},
     "output_type": "execute_result"
    }
   ],
   "source": [
    "%%sql \n",
    "DROP TABLE IF EXISTS F_flights;\n",
    "\n",
    "CREATE TABLE F_flights (\n",
    "  YEAR INTEGER NOT NULL,\n",
    "  MONTH INTEGER NOT NULL,\n",
    "  DAY INTEGER NOT NULL,\n",
    "  DAY_OF_WEEK INTEGER NOT NULL,\n",
    "  AIRLINE CHAR(2) NOT NULL,\n",
    "  FLIGHT_NUMBER INTEGER NOT NULL,\n",
    "  TAIL_NUMBER CHAR(10),\n",
    "  ORIGIN_AIRPORT CHAR(20) NOT NULL,\n",
    "  DESTINATION_AIRPORT CHAR(20) NOT NULL,\n",
    "  SCHEDULED_DEPARTURE INTEGER NOT NULL,\n",
    "  DEPARTURE_TIME INTEGER,\n",
    "  DEPARTURE_DELAY INTEGER,\n",
    "  SCHEDULED_ARRIVAL INTEGER,\n",
    "  ARRIVAL_TIME INTEGER,\n",
    "  ARRIVAL_DELAY INTEGER,\n",
    "  DIVERTED INTEGER,\n",
    "  CANCELLED INTEGER\n",
    ");"
   ]
  },
  {
   "cell_type": "code",
   "execution_count": 24,
   "id": "a821cdcc-f5dd-42d7-ad16-56045b34a2f2",
   "metadata": {},
   "outputs": [
    {
     "name": "stdout",
     "output_type": "stream",
     "text": [
      " * postgresql://student@/group1\n",
      "0 rows affected.\n"
     ]
    },
    {
     "data": {
      "text/html": [
       "<table>\n",
       "    <thead>\n",
       "        <tr>\n",
       "            <th>year</th>\n",
       "            <th>month</th>\n",
       "            <th>day</th>\n",
       "            <th>day_of_week</th>\n",
       "            <th>airline</th>\n",
       "            <th>flight_number</th>\n",
       "            <th>tail_number</th>\n",
       "            <th>origin_airport</th>\n",
       "            <th>destination_airport</th>\n",
       "            <th>scheduled_departure</th>\n",
       "            <th>departure_time</th>\n",
       "            <th>departure_delay</th>\n",
       "            <th>scheduled_arrival</th>\n",
       "            <th>arrival_time</th>\n",
       "            <th>arrival_delay</th>\n",
       "            <th>diverted</th>\n",
       "            <th>cancelled</th>\n",
       "        </tr>\n",
       "    </thead>\n",
       "    <tbody>\n",
       "    </tbody>\n",
       "</table>"
      ],
      "text/plain": [
       "[]"
      ]
     },
     "execution_count": 24,
     "metadata": {},
     "output_type": "execute_result"
    }
   ],
   "source": [
    "%%sql \n",
    "select * from F_flights"
   ]
  },
  {
   "cell_type": "code",
   "execution_count": 25,
   "id": "83d19e1a-d670-4d04-99d7-41126a86a709",
   "metadata": {},
   "outputs": [
    {
     "name": "stdout",
     "output_type": "stream",
     "text": [
      " * postgresql://student@/group1\n",
      "2262735 rows affected.\n"
     ]
    },
    {
     "data": {
      "text/plain": [
       "[]"
      ]
     },
     "execution_count": 25,
     "metadata": {},
     "output_type": "execute_result"
    }
   ],
   "source": [
    "%%sql\n",
    "COPY F_flights FROM '/home/ubuntu/notebooks/flights2.csv'\n",
    "CSV\n",
    "HEADER;"
   ]
  },
  {
   "cell_type": "code",
   "execution_count": 26,
   "id": "afa78e4d-bb12-49f8-869e-f4fa87617752",
   "metadata": {},
   "outputs": [
    {
     "name": "stdout",
     "output_type": "stream",
     "text": [
      " * postgresql://student@/group1\n",
      "1 rows affected.\n"
     ]
    },
    {
     "data": {
      "text/html": [
       "<table>\n",
       "    <thead>\n",
       "        <tr>\n",
       "            <th>count</th>\n",
       "        </tr>\n",
       "    </thead>\n",
       "    <tbody>\n",
       "        <tr>\n",
       "            <td>2262735</td>\n",
       "        </tr>\n",
       "    </tbody>\n",
       "</table>"
      ],
      "text/plain": [
       "[(2262735,)]"
      ]
     },
     "execution_count": 26,
     "metadata": {},
     "output_type": "execute_result"
    }
   ],
   "source": [
    "%%sql \n",
    "select COUNT(*) from F_flights;"
   ]
  },
  {
   "cell_type": "code",
   "execution_count": 27,
   "id": "4460f49c-5a02-4032-a809-72e61e6a599e",
   "metadata": {},
   "outputs": [
    {
     "name": "stdout",
     "output_type": "stream",
     "text": [
      "2262736 flights2.csv\n"
     ]
    }
   ],
   "source": [
    "! wc -l flights2.csv"
   ]
  },
  {
   "cell_type": "markdown",
   "id": "0da8baaa-0761-4a2c-9ecc-7ed76d6a6f29",
   "metadata": {},
   "source": [
    "The difference of 1 row is the head of the original files. Therefore, we have uploaded all rows of the tables, which is same for following tables."
   ]
  },
  {
   "cell_type": "markdown",
   "id": "b04e3036-1a0f-4604-b2f4-304c2fa9e8a9",
   "metadata": {},
   "source": [
    "#### NULL values in DEPARTURE_TIME, DEPARTURE_DELAY, ARRIVAL_TIME, ARRIVAL_DELAY"
   ]
  },
  {
   "cell_type": "code",
   "execution_count": 28,
   "id": "ad057078-9554-4a3c-99e7-dcf2b989ebec",
   "metadata": {},
   "outputs": [
    {
     "name": "stdout",
     "output_type": "stream",
     "text": [
      " * postgresql://student@/group1\n",
      "49819 rows affected.\n"
     ]
    },
    {
     "data": {
      "text/plain": [
       "[]"
      ]
     },
     "execution_count": 28,
     "metadata": {},
     "output_type": "execute_result"
    }
   ],
   "source": [
    "%%sql \n",
    "UPDATE F_flights \n",
    "SET DEPARTURE_TIME=0 \n",
    "WHERE DEPARTURE_TIME IS NULL;"
   ]
  },
  {
   "cell_type": "code",
   "execution_count": 29,
   "id": "81885088-25d2-4b79-a8df-b1441ab4401e",
   "metadata": {},
   "outputs": [
    {
     "name": "stdout",
     "output_type": "stream",
     "text": [
      " * postgresql://student@/group1\n",
      "49819 rows affected.\n"
     ]
    },
    {
     "data": {
      "text/plain": [
       "[]"
      ]
     },
     "execution_count": 29,
     "metadata": {},
     "output_type": "execute_result"
    }
   ],
   "source": [
    "%%sql \n",
    "UPDATE F_flights \n",
    "SET DEPARTURE_DELAY=0 \n",
    "WHERE DEPARTURE_DELAY IS NULL;"
   ]
  },
  {
   "cell_type": "code",
   "execution_count": 30,
   "id": "c2001d5c-2962-4d2d-a5be-e3c4b20bc515",
   "metadata": {},
   "outputs": [
    {
     "name": "stdout",
     "output_type": "stream",
     "text": [
      " * postgresql://student@/group1\n",
      "52562 rows affected.\n"
     ]
    },
    {
     "data": {
      "text/plain": [
       "[]"
      ]
     },
     "execution_count": 30,
     "metadata": {},
     "output_type": "execute_result"
    }
   ],
   "source": [
    "%%sql \n",
    "UPDATE F_flights \n",
    "SET ARRIVAL_TIME=0 \n",
    "WHERE ARRIVAL_TIME IS NULL;"
   ]
  },
  {
   "cell_type": "code",
   "execution_count": 31,
   "id": "c8f16aa6-27b4-460f-8121-121ce764938a",
   "metadata": {},
   "outputs": [
    {
     "name": "stdout",
     "output_type": "stream",
     "text": [
      " * postgresql://student@/group1\n",
      "56923 rows affected.\n"
     ]
    },
    {
     "data": {
      "text/plain": [
       "[]"
      ]
     },
     "execution_count": 31,
     "metadata": {},
     "output_type": "execute_result"
    }
   ],
   "source": [
    "%%sql \n",
    "UPDATE F_flights \n",
    "SET ARRIVAL_DELAY=0 \n",
    "WHERE ARRIVAL_DELAY IS NULL;"
   ]
  },
  {
   "cell_type": "markdown",
   "id": "fde130c4-bda0-4988-a79a-6326af8b428e",
   "metadata": {},
   "source": [
    "### Create Airports Table"
   ]
  },
  {
   "cell_type": "code",
   "execution_count": 32,
   "id": "2cf4a395-3c13-491b-945c-c3fbd4d3b5e9",
   "metadata": {},
   "outputs": [
    {
     "name": "stdout",
     "output_type": "stream",
     "text": [
      " * postgresql://student@/group1\n",
      "Done.\n",
      "Done.\n"
     ]
    },
    {
     "data": {
      "text/plain": [
       "[]"
      ]
     },
     "execution_count": 32,
     "metadata": {},
     "output_type": "execute_result"
    }
   ],
   "source": [
    "%%sql\n",
    "DROP TABLE IF EXISTS Airports;\n",
    "\n",
    "CREATE TABLE Airports (\n",
    " IATA_CODE CHAR(3) ,\n",
    " AIRPORT varchar(100) ,\n",
    " CITY CHAR(30) ,\n",
    " STATE CHAR(3) ,\n",
    " COUNTRY CHAR(3) ,\n",
    " LATITUDE FLOAT ,\n",
    " LONGITUDE FLOAT\n",
    ");"
   ]
  },
  {
   "cell_type": "code",
   "execution_count": 33,
   "id": "5b5252d8-e8df-426d-8faf-aff6f1a70d45",
   "metadata": {},
   "outputs": [
    {
     "name": "stdout",
     "output_type": "stream",
     "text": [
      " * postgresql://student@/group1\n",
      "322 rows affected.\n"
     ]
    },
    {
     "data": {
      "text/plain": [
       "[]"
      ]
     },
     "execution_count": 33,
     "metadata": {},
     "output_type": "execute_result"
    }
   ],
   "source": [
    "%%sql\n",
    "COPY Airports FROM '/home/ubuntu/notebooks/airports.csv'\n",
    "CSV\n",
    "HEADER;"
   ]
  },
  {
   "cell_type": "code",
   "execution_count": 34,
   "id": "9e0da9af-3182-4385-90f4-5baaf3499af4",
   "metadata": {},
   "outputs": [
    {
     "name": "stdout",
     "output_type": "stream",
     "text": [
      " * postgresql://student@/group1\n",
      "1 rows affected.\n"
     ]
    },
    {
     "data": {
      "text/html": [
       "<table>\n",
       "    <thead>\n",
       "        <tr>\n",
       "            <th>count</th>\n",
       "        </tr>\n",
       "    </thead>\n",
       "    <tbody>\n",
       "        <tr>\n",
       "            <td>322</td>\n",
       "        </tr>\n",
       "    </tbody>\n",
       "</table>"
      ],
      "text/plain": [
       "[(322,)]"
      ]
     },
     "execution_count": 34,
     "metadata": {},
     "output_type": "execute_result"
    }
   ],
   "source": [
    "%%sql \n",
    "select COUNT(*) from Airports;"
   ]
  },
  {
   "cell_type": "code",
   "execution_count": 35,
   "id": "87171fa2-7bf5-484c-ac93-c92f98c0e9bd",
   "metadata": {},
   "outputs": [
    {
     "name": "stdout",
     "output_type": "stream",
     "text": [
      "323 airports.csv\n"
     ]
    }
   ],
   "source": [
    "! wc -l airports.csv"
   ]
  },
  {
   "cell_type": "markdown",
   "id": "c8a42ea9-8939-4847-8266-4230f3c8b970",
   "metadata": {},
   "source": [
    "### Create Airlines Table"
   ]
  },
  {
   "cell_type": "code",
   "execution_count": 36,
   "id": "74c6a6e5-ed0e-4831-8c5f-1bd0f9ed1c37",
   "metadata": {},
   "outputs": [
    {
     "name": "stdout",
     "output_type": "stream",
     "text": [
      " * postgresql://student@/group1\n",
      "Done.\n",
      "Done.\n"
     ]
    },
    {
     "data": {
      "text/plain": [
       "[]"
      ]
     },
     "execution_count": 36,
     "metadata": {},
     "output_type": "execute_result"
    }
   ],
   "source": [
    "%%sql\n",
    "DROP TABLE IF EXISTS Airlines;\n",
    "\n",
    "CREATE TABLE Airlines (\n",
    " IATA_CODE CHAR(3) ,\n",
    " AIRLINE varchar(100) \n",
    ");"
   ]
  },
  {
   "cell_type": "code",
   "execution_count": 37,
   "id": "9bb117c2-3940-45df-9ec8-825ded3d06f0",
   "metadata": {},
   "outputs": [
    {
     "name": "stdout",
     "output_type": "stream",
     "text": [
      " * postgresql://student@/group1\n",
      "14 rows affected.\n"
     ]
    },
    {
     "data": {
      "text/plain": [
       "[]"
      ]
     },
     "execution_count": 37,
     "metadata": {},
     "output_type": "execute_result"
    }
   ],
   "source": [
    "%%sql\n",
    "COPY Airlines FROM '/home/ubuntu/notebooks/airlines.csv'\n",
    "CSV\n",
    "HEADER;"
   ]
  },
  {
   "cell_type": "code",
   "execution_count": 38,
   "id": "ed74aecb-39df-4157-a62a-b9b0066d3abf",
   "metadata": {},
   "outputs": [
    {
     "name": "stdout",
     "output_type": "stream",
     "text": [
      " * postgresql://student@/group1\n",
      "1 rows affected.\n"
     ]
    },
    {
     "data": {
      "text/html": [
       "<table>\n",
       "    <thead>\n",
       "        <tr>\n",
       "            <th>count</th>\n",
       "        </tr>\n",
       "    </thead>\n",
       "    <tbody>\n",
       "        <tr>\n",
       "            <td>14</td>\n",
       "        </tr>\n",
       "    </tbody>\n",
       "</table>"
      ],
      "text/plain": [
       "[(14,)]"
      ]
     },
     "execution_count": 38,
     "metadata": {},
     "output_type": "execute_result"
    }
   ],
   "source": [
    "%%sql \n",
    "select COUNT(*) from Airlines;"
   ]
  },
  {
   "cell_type": "code",
   "execution_count": 39,
   "id": "17abea36-9ffd-4b4c-924e-e743482eb448",
   "metadata": {},
   "outputs": [
    {
     "name": "stdout",
     "output_type": "stream",
     "text": [
      "15 airlines.csv\n"
     ]
    }
   ],
   "source": [
    "! wc -l airlines.csv"
   ]
  },
  {
   "cell_type": "markdown",
   "id": "b9f4cfa6-dfdb-45cc-a18c-982fe821e504",
   "metadata": {},
   "source": [
    "### Create Date_Dim as a dimension table"
   ]
  },
  {
   "cell_type": "markdown",
   "id": "352368fa-2efa-4d7c-936b-da9135486046",
   "metadata": {},
   "source": [
    "Create the Date_Dim table as a dimension table"
   ]
  },
  {
   "cell_type": "code",
   "execution_count": 40,
   "id": "a18511bb-3b3d-48ca-825f-4c93c72d684d",
   "metadata": {},
   "outputs": [
    {
     "name": "stdout",
     "output_type": "stream",
     "text": [
      " * postgresql://student@/group1\n",
      "Done.\n",
      "Done.\n"
     ]
    },
    {
     "data": {
      "text/plain": [
       "[]"
      ]
     },
     "execution_count": 40,
     "metadata": {},
     "output_type": "execute_result"
    }
   ],
   "source": [
    "%%sql\n",
    "DROP TABLE IF EXISTS Date_Dim;\n",
    "\n",
    "CREATE TABLE Date_Dim (\n",
    "    Date_Key SERIAL PRIMARY KEY,\n",
    "    YEAR INTEGER NOT NULL,\n",
    "    MONTH INTEGER NOT NULL,\n",
    "    DAY INTEGER NOT NULL,\n",
    "    DAY_OF_WEEK INTEGER NOT NULL,\n",
    "    DATE DATE NOT NULL \n",
    ");"
   ]
  },
  {
   "cell_type": "markdown",
   "id": "4591efec-6225-42a4-b551-6902b19a8fa3",
   "metadata": {},
   "source": [
    "Populate the Date_Dim table with data from table F_flights"
   ]
  },
  {
   "cell_type": "code",
   "execution_count": 41,
   "id": "79a79905-7dcf-4390-94c1-6a6752e5dee5",
   "metadata": {},
   "outputs": [
    {
     "name": "stdout",
     "output_type": "stream",
     "text": [
      " * postgresql://student@/group1\n",
      "144 rows affected.\n"
     ]
    },
    {
     "data": {
      "text/plain": [
       "[]"
      ]
     },
     "execution_count": 41,
     "metadata": {},
     "output_type": "execute_result"
    }
   ],
   "source": [
    "%%sql\n",
    "INSERT INTO Date_Dim(year,month,day,day_of_week,date) \n",
    "SELECT distinct year,month,day,day_of_week,\n",
    "cast(year::char(4)||'-'||month::char(2)||'-'||day::char(2) as date)::date\n",
    "FROM F_flights\n",
    "ORDER BY date;"
   ]
  },
  {
   "cell_type": "code",
   "execution_count": 42,
   "id": "04f4e2ef-1d12-4c95-81ec-0b6fc5d8505d",
   "metadata": {},
   "outputs": [
    {
     "name": "stdout",
     "output_type": "stream",
     "text": [
      " * postgresql://student@/group1\n",
      "10 rows affected.\n"
     ]
    },
    {
     "data": {
      "text/html": [
       "<table>\n",
       "    <thead>\n",
       "        <tr>\n",
       "            <th>date_key</th>\n",
       "            <th>year</th>\n",
       "            <th>month</th>\n",
       "            <th>day</th>\n",
       "            <th>day_of_week</th>\n",
       "            <th>date</th>\n",
       "        </tr>\n",
       "    </thead>\n",
       "    <tbody>\n",
       "        <tr>\n",
       "            <td>1</td>\n",
       "            <td>2015</td>\n",
       "            <td>1</td>\n",
       "            <td>1</td>\n",
       "            <td>4</td>\n",
       "            <td>2015-01-01</td>\n",
       "        </tr>\n",
       "        <tr>\n",
       "            <td>2</td>\n",
       "            <td>2015</td>\n",
       "            <td>1</td>\n",
       "            <td>2</td>\n",
       "            <td>5</td>\n",
       "            <td>2015-01-02</td>\n",
       "        </tr>\n",
       "        <tr>\n",
       "            <td>3</td>\n",
       "            <td>2015</td>\n",
       "            <td>1</td>\n",
       "            <td>3</td>\n",
       "            <td>6</td>\n",
       "            <td>2015-01-03</td>\n",
       "        </tr>\n",
       "        <tr>\n",
       "            <td>4</td>\n",
       "            <td>2015</td>\n",
       "            <td>1</td>\n",
       "            <td>4</td>\n",
       "            <td>7</td>\n",
       "            <td>2015-01-04</td>\n",
       "        </tr>\n",
       "        <tr>\n",
       "            <td>5</td>\n",
       "            <td>2015</td>\n",
       "            <td>1</td>\n",
       "            <td>5</td>\n",
       "            <td>1</td>\n",
       "            <td>2015-01-05</td>\n",
       "        </tr>\n",
       "        <tr>\n",
       "            <td>6</td>\n",
       "            <td>2015</td>\n",
       "            <td>1</td>\n",
       "            <td>6</td>\n",
       "            <td>2</td>\n",
       "            <td>2015-01-06</td>\n",
       "        </tr>\n",
       "        <tr>\n",
       "            <td>7</td>\n",
       "            <td>2015</td>\n",
       "            <td>1</td>\n",
       "            <td>7</td>\n",
       "            <td>3</td>\n",
       "            <td>2015-01-07</td>\n",
       "        </tr>\n",
       "        <tr>\n",
       "            <td>8</td>\n",
       "            <td>2015</td>\n",
       "            <td>1</td>\n",
       "            <td>8</td>\n",
       "            <td>4</td>\n",
       "            <td>2015-01-08</td>\n",
       "        </tr>\n",
       "        <tr>\n",
       "            <td>9</td>\n",
       "            <td>2015</td>\n",
       "            <td>1</td>\n",
       "            <td>9</td>\n",
       "            <td>5</td>\n",
       "            <td>2015-01-09</td>\n",
       "        </tr>\n",
       "        <tr>\n",
       "            <td>10</td>\n",
       "            <td>2015</td>\n",
       "            <td>1</td>\n",
       "            <td>10</td>\n",
       "            <td>6</td>\n",
       "            <td>2015-01-10</td>\n",
       "        </tr>\n",
       "    </tbody>\n",
       "</table>"
      ],
      "text/plain": [
       "[(1, 2015, 1, 1, 4, datetime.date(2015, 1, 1)),\n",
       " (2, 2015, 1, 2, 5, datetime.date(2015, 1, 2)),\n",
       " (3, 2015, 1, 3, 6, datetime.date(2015, 1, 3)),\n",
       " (4, 2015, 1, 4, 7, datetime.date(2015, 1, 4)),\n",
       " (5, 2015, 1, 5, 1, datetime.date(2015, 1, 5)),\n",
       " (6, 2015, 1, 6, 2, datetime.date(2015, 1, 6)),\n",
       " (7, 2015, 1, 7, 3, datetime.date(2015, 1, 7)),\n",
       " (8, 2015, 1, 8, 4, datetime.date(2015, 1, 8)),\n",
       " (9, 2015, 1, 9, 5, datetime.date(2015, 1, 9)),\n",
       " (10, 2015, 1, 10, 6, datetime.date(2015, 1, 10))]"
      ]
     },
     "execution_count": 42,
     "metadata": {},
     "output_type": "execute_result"
    }
   ],
   "source": [
    "%%sql\n",
    "select * from Date_Dim\n",
    "limit 10"
   ]
  },
  {
   "cell_type": "markdown",
   "id": "1cd689eb-cae2-43f8-970b-bfe68ced8887",
   "metadata": {},
   "source": [
    "Next, we add FK Date_key to the F_flights table."
   ]
  },
  {
   "cell_type": "code",
   "execution_count": 43,
   "id": "bf6d7b0f-bbd6-4164-b057-35187628b8be",
   "metadata": {},
   "outputs": [
    {
     "name": "stdout",
     "output_type": "stream",
     "text": [
      " * postgresql://student@/group1\n",
      "Done.\n"
     ]
    },
    {
     "data": {
      "text/plain": [
       "[]"
      ]
     },
     "execution_count": 43,
     "metadata": {},
     "output_type": "execute_result"
    }
   ],
   "source": [
    "%%sql\n",
    "ALTER TABLE F_flights \n",
    "ADD COLUMN Date_Key INTEGER NULL ,\n",
    "ADD CONSTRAINT fk_Date\n",
    "    FOREIGN KEY (Date_Key)\n",
    "    REFERENCES Date_Dim(Date_Key);"
   ]
  },
  {
   "cell_type": "markdown",
   "id": "b0d6be35-ec91-464c-8899-1252165acdcc",
   "metadata": {},
   "source": [
    "Populate the Date_key by linking the attributes from Date_Dim table and F_flights table"
   ]
  },
  {
   "cell_type": "code",
   "execution_count": 44,
   "id": "d18f55fd-9fbb-431c-8edd-1487d6dbd872",
   "metadata": {},
   "outputs": [
    {
     "name": "stdout",
     "output_type": "stream",
     "text": [
      " * postgresql://student@/group1\n",
      "2262735 rows affected.\n"
     ]
    },
    {
     "data": {
      "text/plain": [
       "[]"
      ]
     },
     "execution_count": 44,
     "metadata": {},
     "output_type": "execute_result"
    }
   ],
   "source": [
    "%%sql\n",
    "UPDATE F_flights AS f\n",
    "SET Date_Key = t.Date_Key\n",
    "FROM Date_Dim AS t\n",
    "WHERE f.year = t.year\n",
    "and f.month = t.month\n",
    "and f.day = t.day\n",
    "and f.day_of_week=t.day_of_week;"
   ]
  },
  {
   "cell_type": "markdown",
   "id": "90c7bf18-01ef-4f3c-a7f2-28ac7df9eab5",
   "metadata": {},
   "source": [
    "We can check the Date_Dim table we just modified by examining the first 10 rows."
   ]
  },
  {
   "cell_type": "code",
   "execution_count": 45,
   "id": "3ea1ec94-fdcc-4e09-b863-c0fb577e4333",
   "metadata": {},
   "outputs": [
    {
     "name": "stdout",
     "output_type": "stream",
     "text": [
      " * postgresql://student@/group1\n",
      "10 rows affected.\n"
     ]
    },
    {
     "data": {
      "text/html": [
       "<table>\n",
       "    <thead>\n",
       "        <tr>\n",
       "            <th>date_key</th>\n",
       "            <th>year</th>\n",
       "            <th>month</th>\n",
       "            <th>day</th>\n",
       "            <th>day_of_week</th>\n",
       "            <th>date</th>\n",
       "        </tr>\n",
       "    </thead>\n",
       "    <tbody>\n",
       "        <tr>\n",
       "            <td>1</td>\n",
       "            <td>2015</td>\n",
       "            <td>1</td>\n",
       "            <td>1</td>\n",
       "            <td>4</td>\n",
       "            <td>2015-01-01</td>\n",
       "        </tr>\n",
       "        <tr>\n",
       "            <td>2</td>\n",
       "            <td>2015</td>\n",
       "            <td>1</td>\n",
       "            <td>2</td>\n",
       "            <td>5</td>\n",
       "            <td>2015-01-02</td>\n",
       "        </tr>\n",
       "        <tr>\n",
       "            <td>3</td>\n",
       "            <td>2015</td>\n",
       "            <td>1</td>\n",
       "            <td>3</td>\n",
       "            <td>6</td>\n",
       "            <td>2015-01-03</td>\n",
       "        </tr>\n",
       "        <tr>\n",
       "            <td>4</td>\n",
       "            <td>2015</td>\n",
       "            <td>1</td>\n",
       "            <td>4</td>\n",
       "            <td>7</td>\n",
       "            <td>2015-01-04</td>\n",
       "        </tr>\n",
       "        <tr>\n",
       "            <td>5</td>\n",
       "            <td>2015</td>\n",
       "            <td>1</td>\n",
       "            <td>5</td>\n",
       "            <td>1</td>\n",
       "            <td>2015-01-05</td>\n",
       "        </tr>\n",
       "        <tr>\n",
       "            <td>6</td>\n",
       "            <td>2015</td>\n",
       "            <td>1</td>\n",
       "            <td>6</td>\n",
       "            <td>2</td>\n",
       "            <td>2015-01-06</td>\n",
       "        </tr>\n",
       "        <tr>\n",
       "            <td>7</td>\n",
       "            <td>2015</td>\n",
       "            <td>1</td>\n",
       "            <td>7</td>\n",
       "            <td>3</td>\n",
       "            <td>2015-01-07</td>\n",
       "        </tr>\n",
       "        <tr>\n",
       "            <td>8</td>\n",
       "            <td>2015</td>\n",
       "            <td>1</td>\n",
       "            <td>8</td>\n",
       "            <td>4</td>\n",
       "            <td>2015-01-08</td>\n",
       "        </tr>\n",
       "        <tr>\n",
       "            <td>9</td>\n",
       "            <td>2015</td>\n",
       "            <td>1</td>\n",
       "            <td>9</td>\n",
       "            <td>5</td>\n",
       "            <td>2015-01-09</td>\n",
       "        </tr>\n",
       "        <tr>\n",
       "            <td>10</td>\n",
       "            <td>2015</td>\n",
       "            <td>1</td>\n",
       "            <td>10</td>\n",
       "            <td>6</td>\n",
       "            <td>2015-01-10</td>\n",
       "        </tr>\n",
       "    </tbody>\n",
       "</table>"
      ],
      "text/plain": [
       "[(1, 2015, 1, 1, 4, datetime.date(2015, 1, 1)),\n",
       " (2, 2015, 1, 2, 5, datetime.date(2015, 1, 2)),\n",
       " (3, 2015, 1, 3, 6, datetime.date(2015, 1, 3)),\n",
       " (4, 2015, 1, 4, 7, datetime.date(2015, 1, 4)),\n",
       " (5, 2015, 1, 5, 1, datetime.date(2015, 1, 5)),\n",
       " (6, 2015, 1, 6, 2, datetime.date(2015, 1, 6)),\n",
       " (7, 2015, 1, 7, 3, datetime.date(2015, 1, 7)),\n",
       " (8, 2015, 1, 8, 4, datetime.date(2015, 1, 8)),\n",
       " (9, 2015, 1, 9, 5, datetime.date(2015, 1, 9)),\n",
       " (10, 2015, 1, 10, 6, datetime.date(2015, 1, 10))]"
      ]
     },
     "execution_count": 45,
     "metadata": {},
     "output_type": "execute_result"
    }
   ],
   "source": [
    "%%sql\n",
    "select * from Date_Dim\n",
    "limit 10"
   ]
  },
  {
   "cell_type": "markdown",
   "id": "302b4157-03b5-4330-939b-32879c463097",
   "metadata": {},
   "source": [
    "The Date_key attribute has been successfully added to the F_flights table from the output."
   ]
  },
  {
   "cell_type": "markdown",
   "id": "65ea6087-ccae-44b0-8238-f0742c552007",
   "metadata": {},
   "source": [
    "### Create the Airports_Dim table as a dimension table"
   ]
  },
  {
   "cell_type": "code",
   "execution_count": 46,
   "id": "606c01db-d709-4571-a4f8-4e817adc3f0c",
   "metadata": {},
   "outputs": [
    {
     "name": "stdout",
     "output_type": "stream",
     "text": [
      " * postgresql://student@/group1\n",
      "Done.\n"
     ]
    },
    {
     "data": {
      "text/plain": [
       "[]"
      ]
     },
     "execution_count": 46,
     "metadata": {},
     "output_type": "execute_result"
    }
   ],
   "source": [
    "%%sql\n",
    "CREATE TABLE Airports_Dim (\n",
    " Airports_Key SERIAL PRIMARY KEY,\n",
    " IATA_CODE CHAR(3) ,\n",
    " AIRPORT varchar(100) ,\n",
    " CITY CHAR(30) ,\n",
    " STATE CHAR(3) ,\n",
    " COUNTRY CHAR(3) ,\n",
    " LATITUDE FLOAT ,\n",
    " LONGITUDE FLOAT\n",
    ");"
   ]
  },
  {
   "cell_type": "markdown",
   "id": "3661d59b-adb3-4551-a93a-b3263b9d5ce8",
   "metadata": {},
   "source": [
    "Populate the Airports_Dim table with data from the F_flights table"
   ]
  },
  {
   "cell_type": "code",
   "execution_count": 47,
   "id": "b849c654-71a0-407c-a311-44d6681b0796",
   "metadata": {},
   "outputs": [
    {
     "name": "stdout",
     "output_type": "stream",
     "text": [
      " * postgresql://student@/group1\n",
      "322 rows affected.\n"
     ]
    },
    {
     "data": {
      "text/plain": [
       "[]"
      ]
     },
     "execution_count": 47,
     "metadata": {},
     "output_type": "execute_result"
    }
   ],
   "source": [
    "%%sql\n",
    "INSERT INTO Airports_Dim (IATA_CODE,AIRPORT,CITY,STATE,COUNTRY,LATITUDE,LONGITUDE)\n",
    "SELECT DISTINCT IATA_CODE,AIRPORT,CITY,STATE,COUNTRY,LATITUDE,LONGITUDE\n",
    "FROM Airports;"
   ]
  },
  {
   "cell_type": "markdown",
   "id": "bcdb618a-ce54-45cf-b235-a19a96371ea5",
   "metadata": {},
   "source": [
    "Check the Airports_Dim table we just created by examining the first 10 rows"
   ]
  },
  {
   "cell_type": "code",
   "execution_count": 48,
   "id": "31ab17a3-1cbe-42c7-a27c-be8a7cc5aae8",
   "metadata": {},
   "outputs": [
    {
     "name": "stdout",
     "output_type": "stream",
     "text": [
      " * postgresql://student@/group1\n",
      "30 rows affected.\n"
     ]
    },
    {
     "data": {
      "text/html": [
       "<table>\n",
       "    <thead>\n",
       "        <tr>\n",
       "            <th>airports_key</th>\n",
       "            <th>iata_code</th>\n",
       "            <th>airport</th>\n",
       "            <th>city</th>\n",
       "            <th>state</th>\n",
       "            <th>country</th>\n",
       "            <th>latitude</th>\n",
       "            <th>longitude</th>\n",
       "        </tr>\n",
       "    </thead>\n",
       "    <tbody>\n",
       "        <tr>\n",
       "            <td>1</td>\n",
       "            <td>ORH</td>\n",
       "            <td>Worcester Regional Airport</td>\n",
       "            <td>Worcester                     </td>\n",
       "            <td>MA </td>\n",
       "            <td>USA</td>\n",
       "            <td>42.26734</td>\n",
       "            <td>-71.87571</td>\n",
       "        </tr>\n",
       "        <tr>\n",
       "            <td>2</td>\n",
       "            <td>SAN</td>\n",
       "            <td>San Diego International Airport (Lindbergh Field)</td>\n",
       "            <td>San Diego                     </td>\n",
       "            <td>CA </td>\n",
       "            <td>USA</td>\n",
       "            <td>32.73356</td>\n",
       "            <td>-117.18966</td>\n",
       "        </tr>\n",
       "        <tr>\n",
       "            <td>3</td>\n",
       "            <td>RST</td>\n",
       "            <td>Rochester International Airport</td>\n",
       "            <td>Rochester                     </td>\n",
       "            <td>MN </td>\n",
       "            <td>USA</td>\n",
       "            <td>43.90883</td>\n",
       "            <td>-92.49799</td>\n",
       "        </tr>\n",
       "        <tr>\n",
       "            <td>4</td>\n",
       "            <td>BUR</td>\n",
       "            <td>Bob Hope Airport (Hollywood Burbank Airport)</td>\n",
       "            <td>Burbank                       </td>\n",
       "            <td>CA </td>\n",
       "            <td>USA</td>\n",
       "            <td>34.20062</td>\n",
       "            <td>-118.3585</td>\n",
       "        </tr>\n",
       "        <tr>\n",
       "            <td>5</td>\n",
       "            <td>FAY</td>\n",
       "            <td>Fayetteville Regional Airport</td>\n",
       "            <td>Fayetteville                  </td>\n",
       "            <td>NC </td>\n",
       "            <td>USA</td>\n",
       "            <td>34.99147</td>\n",
       "            <td>-78.88</td>\n",
       "        </tr>\n",
       "        <tr>\n",
       "            <td>6</td>\n",
       "            <td>AGS</td>\n",
       "            <td>Augusta Regional Airport (Bush Field)</td>\n",
       "            <td>Augusta                       </td>\n",
       "            <td>GA </td>\n",
       "            <td>USA</td>\n",
       "            <td>33.36996</td>\n",
       "            <td>-81.9645</td>\n",
       "        </tr>\n",
       "        <tr>\n",
       "            <td>7</td>\n",
       "            <td>ICT</td>\n",
       "            <td>Wichita Dwight D. Eisenhower National Airport (Wichita Mid-Continent Airport)</td>\n",
       "            <td>Wichita                       </td>\n",
       "            <td>KS </td>\n",
       "            <td>USA</td>\n",
       "            <td>37.64996</td>\n",
       "            <td>-97.43305</td>\n",
       "        </tr>\n",
       "        <tr>\n",
       "            <td>8</td>\n",
       "            <td>DRO</td>\n",
       "            <td>Durango-La Plata County Airport</td>\n",
       "            <td>Durango                       </td>\n",
       "            <td>CO </td>\n",
       "            <td>USA</td>\n",
       "            <td>37.15152</td>\n",
       "            <td>-107.75377</td>\n",
       "        </tr>\n",
       "        <tr>\n",
       "            <td>9</td>\n",
       "            <td>SUX</td>\n",
       "            <td>Sioux Gateway Airport</td>\n",
       "            <td>Sioux City                    </td>\n",
       "            <td>IA </td>\n",
       "            <td>USA</td>\n",
       "            <td>42.4026</td>\n",
       "            <td>-96.38437</td>\n",
       "        </tr>\n",
       "        <tr>\n",
       "            <td>10</td>\n",
       "            <td>RIC</td>\n",
       "            <td>Richmond International Airport</td>\n",
       "            <td>Richmond                      </td>\n",
       "            <td>VA </td>\n",
       "            <td>USA</td>\n",
       "            <td>37.50517</td>\n",
       "            <td>-77.31967</td>\n",
       "        </tr>\n",
       "        <tr>\n",
       "            <td>11</td>\n",
       "            <td>JAN</td>\n",
       "            <td>Jackson-Evers International Airport</td>\n",
       "            <td>Jackson                       </td>\n",
       "            <td>MS </td>\n",
       "            <td>USA</td>\n",
       "            <td>32.31117</td>\n",
       "            <td>-90.07589</td>\n",
       "        </tr>\n",
       "        <tr>\n",
       "            <td>12</td>\n",
       "            <td>DSM</td>\n",
       "            <td>Des Moines International Airport</td>\n",
       "            <td>Des Moines                    </td>\n",
       "            <td>IA </td>\n",
       "            <td>USA</td>\n",
       "            <td>41.53493</td>\n",
       "            <td>-93.66068</td>\n",
       "        </tr>\n",
       "        <tr>\n",
       "            <td>13</td>\n",
       "            <td>CHA</td>\n",
       "            <td>Chattanooga Metropolitan Airport (Lovell Field)</td>\n",
       "            <td>Chattanooga                   </td>\n",
       "            <td>TN </td>\n",
       "            <td>USA</td>\n",
       "            <td>35.03527</td>\n",
       "            <td>-85.20379</td>\n",
       "        </tr>\n",
       "        <tr>\n",
       "            <td>14</td>\n",
       "            <td>AMA</td>\n",
       "            <td>Rick Husband Amarillo International Airport</td>\n",
       "            <td>Amarillo                      </td>\n",
       "            <td>TX </td>\n",
       "            <td>USA</td>\n",
       "            <td>35.21937</td>\n",
       "            <td>-101.70593</td>\n",
       "        </tr>\n",
       "        <tr>\n",
       "            <td>15</td>\n",
       "            <td>MOB</td>\n",
       "            <td>Mobile Regional Airport</td>\n",
       "            <td>Mobile                        </td>\n",
       "            <td>AL </td>\n",
       "            <td>USA</td>\n",
       "            <td>30.69142</td>\n",
       "            <td>-88.24283</td>\n",
       "        </tr>\n",
       "        <tr>\n",
       "            <td>16</td>\n",
       "            <td>SPS</td>\n",
       "            <td>Wichita Falls Municipal Airport/Sheppard AFB</td>\n",
       "            <td>Wichita Falls                 </td>\n",
       "            <td>TX </td>\n",
       "            <td>USA</td>\n",
       "            <td>33.9888</td>\n",
       "            <td>-98.49189</td>\n",
       "        </tr>\n",
       "        <tr>\n",
       "            <td>17</td>\n",
       "            <td>LAW</td>\n",
       "            <td>Lawton-Fort Sill Regional Airport</td>\n",
       "            <td>Lawton                        </td>\n",
       "            <td>OK </td>\n",
       "            <td>USA</td>\n",
       "            <td>34.56771</td>\n",
       "            <td>-98.41664</td>\n",
       "        </tr>\n",
       "        <tr>\n",
       "            <td>18</td>\n",
       "            <td>OMA</td>\n",
       "            <td>Eppley Airfield</td>\n",
       "            <td>Omaha                         </td>\n",
       "            <td>NE </td>\n",
       "            <td>USA</td>\n",
       "            <td>41.30252</td>\n",
       "            <td>-95.89417</td>\n",
       "        </tr>\n",
       "        <tr>\n",
       "            <td>19</td>\n",
       "            <td>GNV</td>\n",
       "            <td>Gainesville Regional Airport</td>\n",
       "            <td>Gainesville                   </td>\n",
       "            <td>FL </td>\n",
       "            <td>USA</td>\n",
       "            <td>29.69006</td>\n",
       "            <td>-82.27178</td>\n",
       "        </tr>\n",
       "        <tr>\n",
       "            <td>20</td>\n",
       "            <td>ADQ</td>\n",
       "            <td>Kodiak Airport</td>\n",
       "            <td>Kodiak                        </td>\n",
       "            <td>AK </td>\n",
       "            <td>USA</td>\n",
       "            <td>57.74997</td>\n",
       "            <td>-152.49386</td>\n",
       "        </tr>\n",
       "        <tr>\n",
       "            <td>21</td>\n",
       "            <td>GCC</td>\n",
       "            <td>Gillette-Campbell County Airport</td>\n",
       "            <td>Gillette                      </td>\n",
       "            <td>WY </td>\n",
       "            <td>USA</td>\n",
       "            <td>44.3489</td>\n",
       "            <td>-105.53936</td>\n",
       "        </tr>\n",
       "        <tr>\n",
       "            <td>22</td>\n",
       "            <td>FAR</td>\n",
       "            <td>Hector International Airport</td>\n",
       "            <td>Fargo                         </td>\n",
       "            <td>ND </td>\n",
       "            <td>USA</td>\n",
       "            <td>46.91935</td>\n",
       "            <td>-96.81499</td>\n",
       "        </tr>\n",
       "        <tr>\n",
       "            <td>23</td>\n",
       "            <td>PBI</td>\n",
       "            <td>Palm Beach International Airport</td>\n",
       "            <td>West Palm Beach               </td>\n",
       "            <td>FL </td>\n",
       "            <td>USA</td>\n",
       "            <td>26.68316</td>\n",
       "            <td>-80.09559</td>\n",
       "        </tr>\n",
       "        <tr>\n",
       "            <td>24</td>\n",
       "            <td>ACV</td>\n",
       "            <td>Arcata Airport</td>\n",
       "            <td>Arcata/Eureka                 </td>\n",
       "            <td>CA </td>\n",
       "            <td>USA</td>\n",
       "            <td>40.97812</td>\n",
       "            <td>-124.10862</td>\n",
       "        </tr>\n",
       "        <tr>\n",
       "            <td>25</td>\n",
       "            <td>FAT</td>\n",
       "            <td>Fresno Yosemite International Airport</td>\n",
       "            <td>Fresno                        </td>\n",
       "            <td>CA </td>\n",
       "            <td>USA</td>\n",
       "            <td>36.77619</td>\n",
       "            <td>-119.71814</td>\n",
       "        </tr>\n",
       "        <tr>\n",
       "            <td>26</td>\n",
       "            <td>BTV</td>\n",
       "            <td>Burlington International Airport</td>\n",
       "            <td>Burlington                    </td>\n",
       "            <td>VT </td>\n",
       "            <td>USA</td>\n",
       "            <td>44.473</td>\n",
       "            <td>-73.15031</td>\n",
       "        </tr>\n",
       "        <tr>\n",
       "            <td>27</td>\n",
       "            <td>HLN</td>\n",
       "            <td>Helena Regional Airport</td>\n",
       "            <td>Helena                        </td>\n",
       "            <td>MT </td>\n",
       "            <td>USA</td>\n",
       "            <td>46.60682</td>\n",
       "            <td>-111.98275</td>\n",
       "        </tr>\n",
       "        <tr>\n",
       "            <td>28</td>\n",
       "            <td>BZN</td>\n",
       "            <td>Bozeman Yellowstone International Airport (Gallatin Field Airport)</td>\n",
       "            <td>Bozeman                       </td>\n",
       "            <td>MT </td>\n",
       "            <td>USA</td>\n",
       "            <td>45.7769</td>\n",
       "            <td>-111.15301</td>\n",
       "        </tr>\n",
       "        <tr>\n",
       "            <td>29</td>\n",
       "            <td>PHL</td>\n",
       "            <td>Philadelphia International Airport</td>\n",
       "            <td>Philadelphia                  </td>\n",
       "            <td>PA </td>\n",
       "            <td>USA</td>\n",
       "            <td>39.87195</td>\n",
       "            <td>-75.24114</td>\n",
       "        </tr>\n",
       "        <tr>\n",
       "            <td>30</td>\n",
       "            <td>PIA</td>\n",
       "            <td>General Wayne A. Downing Peoria International Airport</td>\n",
       "            <td>Peoria                        </td>\n",
       "            <td>IL </td>\n",
       "            <td>USA</td>\n",
       "            <td>40.66424</td>\n",
       "            <td>-89.69331</td>\n",
       "        </tr>\n",
       "    </tbody>\n",
       "</table>"
      ],
      "text/plain": [
       "[(1, 'ORH', 'Worcester Regional Airport', 'Worcester                     ', 'MA ', 'USA', 42.26734, -71.87571),\n",
       " (2, 'SAN', 'San Diego International Airport\\xa0(Lindbergh Field)', 'San Diego                     ', 'CA ', 'USA', 32.73356, -117.18966),\n",
       " (3, 'RST', 'Rochester International Airport', 'Rochester                     ', 'MN ', 'USA', 43.90883, -92.49799),\n",
       " (4, 'BUR', 'Bob Hope Airport\\xa0(Hollywood Burbank Airport)', 'Burbank                       ', 'CA ', 'USA', 34.20062, -118.3585),\n",
       " (5, 'FAY', 'Fayetteville Regional Airport', 'Fayetteville                  ', 'NC ', 'USA', 34.99147, -78.88),\n",
       " (6, 'AGS', 'Augusta Regional Airport\\xa0(Bush Field)', 'Augusta                       ', 'GA ', 'USA', 33.36996, -81.9645),\n",
       " (7, 'ICT', 'Wichita Dwight D. Eisenhower National Airport\\xa0(Wichita Mid-Continent Airport)', 'Wichita                       ', 'KS ', 'USA', 37.64996, -97.43305),\n",
       " (8, 'DRO', 'Durango-La Plata County Airport', 'Durango                       ', 'CO ', 'USA', 37.15152, -107.75377),\n",
       " (9, 'SUX', 'Sioux Gateway Airport', 'Sioux City                    ', 'IA ', 'USA', 42.4026, -96.38437),\n",
       " (10, 'RIC', 'Richmond International Airport', 'Richmond                      ', 'VA ', 'USA', 37.50517, -77.31967),\n",
       " (11, 'JAN', 'Jackson-Evers International Airport', 'Jackson                       ', 'MS ', 'USA', 32.31117, -90.07589),\n",
       " (12, 'DSM', 'Des Moines International Airport', 'Des Moines                    ', 'IA ', 'USA', 41.53493, -93.66068),\n",
       " (13, 'CHA', 'Chattanooga Metropolitan Airport\\xa0(Lovell Field)', 'Chattanooga                   ', 'TN ', 'USA', 35.03527, -85.20379),\n",
       " (14, 'AMA', 'Rick Husband Amarillo International Airport', 'Amarillo                      ', 'TX ', 'USA', 35.21937, -101.70593),\n",
       " (15, 'MOB', 'Mobile Regional Airport', 'Mobile                        ', 'AL ', 'USA', 30.69142, -88.24283),\n",
       " (16, 'SPS', 'Wichita Falls Municipal Airport/Sheppard AFB', 'Wichita Falls                 ', 'TX ', 'USA', 33.9888, -98.49189),\n",
       " (17, 'LAW', 'Lawton-Fort Sill Regional Airport', 'Lawton                        ', 'OK ', 'USA', 34.56771, -98.41664),\n",
       " (18, 'OMA', 'Eppley Airfield', 'Omaha                         ', 'NE ', 'USA', 41.30252, -95.89417),\n",
       " (19, 'GNV', 'Gainesville Regional Airport', 'Gainesville                   ', 'FL ', 'USA', 29.69006, -82.27178),\n",
       " (20, 'ADQ', 'Kodiak Airport', 'Kodiak                        ', 'AK ', 'USA', 57.74997, -152.49386),\n",
       " (21, 'GCC', 'Gillette-Campbell County Airport', 'Gillette                      ', 'WY ', 'USA', 44.3489, -105.53936),\n",
       " (22, 'FAR', 'Hector International Airport', 'Fargo                         ', 'ND ', 'USA', 46.91935, -96.81499),\n",
       " (23, 'PBI', 'Palm Beach International Airport', 'West Palm Beach               ', 'FL ', 'USA', 26.68316, -80.09559),\n",
       " (24, 'ACV', 'Arcata Airport', 'Arcata/Eureka                 ', 'CA ', 'USA', 40.97812, -124.10862),\n",
       " (25, 'FAT', 'Fresno Yosemite International Airport', 'Fresno                        ', 'CA ', 'USA', 36.77619, -119.71814),\n",
       " (26, 'BTV', 'Burlington International Airport', 'Burlington                    ', 'VT ', 'USA', 44.473, -73.15031),\n",
       " (27, 'HLN', 'Helena Regional Airport', 'Helena                        ', 'MT ', 'USA', 46.60682, -111.98275),\n",
       " (28, 'BZN', 'Bozeman Yellowstone International Airport\\xa0(Gallatin Field Airport)', 'Bozeman                       ', 'MT ', 'USA', 45.7769, -111.15301),\n",
       " (29, 'PHL', 'Philadelphia International Airport', 'Philadelphia                  ', 'PA ', 'USA', 39.87195, -75.24114),\n",
       " (30, 'PIA', 'General Wayne A. Downing Peoria International Airport', 'Peoria                        ', 'IL ', 'USA', 40.66424, -89.69331)]"
      ]
     },
     "execution_count": 48,
     "metadata": {},
     "output_type": "execute_result"
    }
   ],
   "source": [
    "%%sql\n",
    "SELECT * FROM Airports_Dim\n",
    "Limit 30"
   ]
  },
  {
   "cell_type": "markdown",
   "id": "eaf9992d-d902-4d28-826e-c182178467f9",
   "metadata": {},
   "source": [
    "Populate the origin_airport_key and destination_airport_key"
   ]
  },
  {
   "cell_type": "code",
   "execution_count": 49,
   "id": "10093b1a-c554-4836-a47b-ea3f60e5ce73",
   "metadata": {},
   "outputs": [
    {
     "name": "stdout",
     "output_type": "stream",
     "text": [
      " * postgresql://student@/group1\n",
      "Done.\n"
     ]
    },
    {
     "data": {
      "text/plain": [
       "[]"
      ]
     },
     "execution_count": 49,
     "metadata": {},
     "output_type": "execute_result"
    }
   ],
   "source": [
    "%%sql\n",
    "ALTER TABLE f_flights \n",
    "ADD COLUMN origin_airport_key INTEGER  NULL,\n",
    "ADD COLUMN destination_airport_key INTEGER  NULL,\n",
    "ADD FOREIGN KEY (origin_airport_key) REFERENCES Airports_DIM (Airports_Key) ON DELETE SET NULL,\n",
    "ADD FOREIGN KEY (destination_airport_key) REFERENCES Airports_DIM (Airports_Key) ON DELETE SET NULL\n",
    ";"
   ]
  },
  {
   "cell_type": "code",
   "execution_count": 50,
   "id": "4bd1c97c-b819-4d25-91f6-986dca1d5db1",
   "metadata": {},
   "outputs": [
    {
     "name": "stdout",
     "output_type": "stream",
     "text": [
      " * postgresql://student@/group1\n",
      "2262735 rows affected.\n"
     ]
    },
    {
     "data": {
      "text/plain": [
       "[]"
      ]
     },
     "execution_count": 50,
     "metadata": {},
     "output_type": "execute_result"
    }
   ],
   "source": [
    "%%sql\n",
    "UPDATE F_flights AS f\n",
    "SET origin_airport_key = t.Airports_Key\n",
    "FROM Airports_Dim AS t\n",
    "WHERE f.origin_airport = t.IATA_CODE;"
   ]
  },
  {
   "cell_type": "code",
   "execution_count": 51,
   "id": "28ccaa74-7422-460f-b3c2-3f930e619c42",
   "metadata": {},
   "outputs": [
    {
     "name": "stdout",
     "output_type": "stream",
     "text": [
      " * postgresql://student@/group1\n",
      "2262735 rows affected.\n"
     ]
    },
    {
     "data": {
      "text/plain": [
       "[]"
      ]
     },
     "execution_count": 51,
     "metadata": {},
     "output_type": "execute_result"
    }
   ],
   "source": [
    "%%sql\n",
    "UPDATE F_flights AS f\n",
    "SET destination_airport_key = t.Airports_Key\n",
    "FROM Airports_Dim AS t\n",
    "WHERE f.destination_airport = t.IATA_CODE;"
   ]
  },
  {
   "cell_type": "markdown",
   "id": "46694b18-e68d-4272-8a23-f330d9e78183",
   "metadata": {},
   "source": [
    "### Create the Airlines_Dim table as a dimension table"
   ]
  },
  {
   "cell_type": "code",
   "execution_count": 52,
   "id": "698e287e-666c-4cdc-a9f5-75db0f6e040f",
   "metadata": {},
   "outputs": [
    {
     "name": "stdout",
     "output_type": "stream",
     "text": [
      " * postgresql://student@/group1\n",
      "Done.\n",
      "Done.\n"
     ]
    },
    {
     "data": {
      "text/plain": [
       "[]"
      ]
     },
     "execution_count": 52,
     "metadata": {},
     "output_type": "execute_result"
    }
   ],
   "source": [
    "%%sql\n",
    "DROP TABLE IF EXISTS Airlines_Dim;\n",
    "CREATE TABLE Airlines_Dim (\n",
    " Airlines_Key SERIAL PRIMARY KEY,\n",
    " IATA_CODE CHAR(3) ,\n",
    " AIRLINE varchar(100) \n",
    ");"
   ]
  },
  {
   "cell_type": "code",
   "execution_count": 53,
   "id": "05b94495-27ca-4d75-a8c6-963a1143f59b",
   "metadata": {},
   "outputs": [
    {
     "name": "stdout",
     "output_type": "stream",
     "text": [
      " * postgresql://student@/group1\n",
      "14 rows affected.\n"
     ]
    },
    {
     "data": {
      "text/plain": [
       "[]"
      ]
     },
     "execution_count": 53,
     "metadata": {},
     "output_type": "execute_result"
    }
   ],
   "source": [
    "%%sql\n",
    "INSERT INTO Airlines_Dim (IATA_CODE,AIRLINE)\n",
    "SELECT DISTINCT \n",
    "IATA_CODE, AIRLINE\n",
    "FROM Airlines;"
   ]
  },
  {
   "cell_type": "code",
   "execution_count": 54,
   "id": "098fc83d-5af5-478a-8617-1d5986edd52d",
   "metadata": {},
   "outputs": [
    {
     "name": "stdout",
     "output_type": "stream",
     "text": [
      " * postgresql://student@/group1\n",
      "Done.\n"
     ]
    },
    {
     "data": {
      "text/plain": [
       "[]"
      ]
     },
     "execution_count": 54,
     "metadata": {},
     "output_type": "execute_result"
    }
   ],
   "source": [
    "%%sql\n",
    "ALTER TABLE F_flights \n",
    "ADD COLUMN Airlines_Key INTEGER NULL,\n",
    "ADD FOREIGN KEY (Airlines_Key) \n",
    "REFERENCES Airlines_Dim (Airlines_Key) ON DELETE SET NULL;"
   ]
  },
  {
   "cell_type": "code",
   "execution_count": 55,
   "id": "95c57cce-a151-4928-9464-6e2848e236a2",
   "metadata": {},
   "outputs": [
    {
     "name": "stdout",
     "output_type": "stream",
     "text": [
      " * postgresql://student@/group1\n",
      "2262735 rows affected.\n"
     ]
    },
    {
     "data": {
      "text/plain": [
       "[]"
      ]
     },
     "execution_count": 55,
     "metadata": {},
     "output_type": "execute_result"
    }
   ],
   "source": [
    "%%sql\n",
    "UPDATE F_flights AS f\n",
    "SET Airlines_Key = t.Airlines_Key\n",
    "FROM Airlines_Dim AS t\n",
    "WHERE f.airline = t.IATA_CODE;"
   ]
  },
  {
   "cell_type": "code",
   "execution_count": 56,
   "id": "d419253c-9182-405b-971a-c390d918aaa0",
   "metadata": {},
   "outputs": [
    {
     "name": "stdout",
     "output_type": "stream",
     "text": [
      " * postgresql://student@/group1\n",
      "14 rows affected.\n"
     ]
    },
    {
     "data": {
      "text/html": [
       "<table>\n",
       "    <thead>\n",
       "        <tr>\n",
       "            <th>airlines_key</th>\n",
       "            <th>iata_code</th>\n",
       "            <th>airline</th>\n",
       "        </tr>\n",
       "    </thead>\n",
       "    <tbody>\n",
       "        <tr>\n",
       "            <td>1</td>\n",
       "            <td>OO </td>\n",
       "            <td>Skywest Airlines Inc.</td>\n",
       "        </tr>\n",
       "        <tr>\n",
       "            <td>2</td>\n",
       "            <td>MQ </td>\n",
       "            <td>American Eagle Airlines Inc.</td>\n",
       "        </tr>\n",
       "        <tr>\n",
       "            <td>3</td>\n",
       "            <td>US </td>\n",
       "            <td>US Airways Inc.</td>\n",
       "        </tr>\n",
       "        <tr>\n",
       "            <td>4</td>\n",
       "            <td>WN </td>\n",
       "            <td>Southwest Airlines Co.</td>\n",
       "        </tr>\n",
       "        <tr>\n",
       "            <td>5</td>\n",
       "            <td>NK </td>\n",
       "            <td>Spirit Air Lines</td>\n",
       "        </tr>\n",
       "        <tr>\n",
       "            <td>6</td>\n",
       "            <td>F9 </td>\n",
       "            <td>Frontier Airlines Inc.</td>\n",
       "        </tr>\n",
       "        <tr>\n",
       "            <td>7</td>\n",
       "            <td>B6 </td>\n",
       "            <td>JetBlue Airways</td>\n",
       "        </tr>\n",
       "        <tr>\n",
       "            <td>8</td>\n",
       "            <td>VX </td>\n",
       "            <td>Virgin America</td>\n",
       "        </tr>\n",
       "        <tr>\n",
       "            <td>9</td>\n",
       "            <td>UA </td>\n",
       "            <td>United Air Lines Inc.</td>\n",
       "        </tr>\n",
       "        <tr>\n",
       "            <td>10</td>\n",
       "            <td>DL </td>\n",
       "            <td>Delta Air Lines Inc.</td>\n",
       "        </tr>\n",
       "        <tr>\n",
       "            <td>11</td>\n",
       "            <td>EV </td>\n",
       "            <td>Atlantic Southeast Airlines</td>\n",
       "        </tr>\n",
       "        <tr>\n",
       "            <td>12</td>\n",
       "            <td>HA </td>\n",
       "            <td>Hawaiian Airlines Inc.</td>\n",
       "        </tr>\n",
       "        <tr>\n",
       "            <td>13</td>\n",
       "            <td>AA </td>\n",
       "            <td>American Airlines Inc.</td>\n",
       "        </tr>\n",
       "        <tr>\n",
       "            <td>14</td>\n",
       "            <td>AS </td>\n",
       "            <td>Alaska Airlines Inc.</td>\n",
       "        </tr>\n",
       "    </tbody>\n",
       "</table>"
      ],
      "text/plain": [
       "[(1, 'OO ', 'Skywest Airlines Inc.'),\n",
       " (2, 'MQ ', 'American Eagle Airlines Inc.'),\n",
       " (3, 'US ', 'US Airways Inc.'),\n",
       " (4, 'WN ', 'Southwest Airlines Co.'),\n",
       " (5, 'NK ', 'Spirit Air Lines'),\n",
       " (6, 'F9 ', 'Frontier Airlines Inc.'),\n",
       " (7, 'B6 ', 'JetBlue Airways'),\n",
       " (8, 'VX ', 'Virgin America'),\n",
       " (9, 'UA ', 'United Air Lines Inc.'),\n",
       " (10, 'DL ', 'Delta Air Lines Inc.'),\n",
       " (11, 'EV ', 'Atlantic Southeast Airlines'),\n",
       " (12, 'HA ', 'Hawaiian Airlines Inc.'),\n",
       " (13, 'AA ', 'American Airlines Inc.'),\n",
       " (14, 'AS ', 'Alaska Airlines Inc.')]"
      ]
     },
     "execution_count": 56,
     "metadata": {},
     "output_type": "execute_result"
    }
   ],
   "source": [
    "%%sql\n",
    "select * from Airlines_Dim\n",
    "limit 20;"
   ]
  },
  {
   "cell_type": "markdown",
   "id": "c477a993-574c-4213-8487-a5a1fa05396a",
   "metadata": {},
   "source": [
    "### Create the Flights_Dim table as a dimension table"
   ]
  },
  {
   "cell_type": "code",
   "execution_count": 57,
   "id": "97188780-64c1-4277-8d82-9d7d220afbd1",
   "metadata": {},
   "outputs": [
    {
     "name": "stdout",
     "output_type": "stream",
     "text": [
      " * postgresql://student@/group1\n",
      "Done.\n",
      "Done.\n"
     ]
    },
    {
     "data": {
      "text/plain": [
       "[]"
      ]
     },
     "execution_count": 57,
     "metadata": {},
     "output_type": "execute_result"
    }
   ],
   "source": [
    "%%sql\n",
    "DROP TABLE IF EXISTS Flights_Dim;\n",
    "CREATE TABLE Flights_Dim (\n",
    " Flights_Key SERIAL PRIMARY KEY,\n",
    " flight_number INTEGER ,\n",
    " tail_number CHAR(10)\n",
    ");"
   ]
  },
  {
   "cell_type": "code",
   "execution_count": 58,
   "id": "3d94c95e-15cc-42ef-9246-415a75bb6e15",
   "metadata": {},
   "outputs": [
    {
     "name": "stdout",
     "output_type": "stream",
     "text": [
      " * postgresql://student@/group1\n",
      "1063911 rows affected.\n"
     ]
    },
    {
     "data": {
      "text/plain": [
       "[]"
      ]
     },
     "execution_count": 58,
     "metadata": {},
     "output_type": "execute_result"
    }
   ],
   "source": [
    "%%sql\n",
    "INSERT INTO Flights_Dim (flight_number,tail_number)\n",
    "SELECT DISTINCT \n",
    "flight_number,tail_number\n",
    "FROM F_flights;"
   ]
  },
  {
   "cell_type": "code",
   "execution_count": 59,
   "id": "87a8719b-a131-460f-9cbe-1e83eb4a8dca",
   "metadata": {},
   "outputs": [
    {
     "name": "stdout",
     "output_type": "stream",
     "text": [
      " * postgresql://student@/group1\n",
      "Done.\n"
     ]
    },
    {
     "data": {
      "text/plain": [
       "[]"
      ]
     },
     "execution_count": 59,
     "metadata": {},
     "output_type": "execute_result"
    }
   ],
   "source": [
    "%%sql\n",
    "ALTER TABLE F_flights \n",
    "ADD COLUMN Flights_Key INTEGER NULL,\n",
    "ADD FOREIGN KEY (Flights_Key) \n",
    "    REFERENCES Flights_Dim (Flights_Key) ON DELETE SET NULL;"
   ]
  },
  {
   "cell_type": "code",
   "execution_count": 60,
   "id": "49516f9f-d3ac-49b6-ad84-fe62bce261e9",
   "metadata": {},
   "outputs": [
    {
     "name": "stdout",
     "output_type": "stream",
     "text": [
      " * postgresql://student@/group1\n",
      "2253647 rows affected.\n"
     ]
    },
    {
     "data": {
      "text/plain": [
       "[]"
      ]
     },
     "execution_count": 60,
     "metadata": {},
     "output_type": "execute_result"
    }
   ],
   "source": [
    "%%sql\n",
    "UPDATE F_flights AS f\n",
    "SET Flights_Key = t.Flights_Key\n",
    "FROM Flights_Dim AS t\n",
    "WHERE f.flight_number = t.flight_number AND f.tail_number = t.tail_number;"
   ]
  },
  {
   "cell_type": "markdown",
   "id": "48ec4de6-b3dc-4841-9139-7921d31e6329",
   "metadata": {},
   "source": [
    "We can drop all the unnecessary columns from the rides table and only reserve the facts and surrogate keys."
   ]
  },
  {
   "cell_type": "code",
   "execution_count": 61,
   "id": "8655a7e2-94dd-4141-b8c4-260fcf9535fe",
   "metadata": {},
   "outputs": [
    {
     "name": "stdout",
     "output_type": "stream",
     "text": [
      " * postgresql://student@/group1\n",
      "Done.\n"
     ]
    },
    {
     "data": {
      "text/plain": [
       "[]"
      ]
     },
     "execution_count": 61,
     "metadata": {},
     "output_type": "execute_result"
    }
   ],
   "source": [
    "%%sql\n",
    "ALTER TABLE F_flights \n",
    "DROP COLUMN year,\n",
    "DROP COLUMN month,\n",
    "DROP COLUMN day,\n",
    "DROP COLUMN day_of_week,\n",
    "DROP COLUMN airline,\n",
    "DROP COLUMN flight_number,\n",
    "DROP COLUMN tail_number,\n",
    "DROP COLUMN origin_airport,\n",
    "DROP COLUMN destination_airport;"
   ]
  },
  {
   "cell_type": "markdown",
   "id": "7e256b7c-e2da-4655-b317-5a6c2bacf8d8",
   "metadata": {},
   "source": [
    "Check the F_flights table we just modified by examining the first 10 rows."
   ]
  },
  {
   "cell_type": "code",
   "execution_count": 62,
   "id": "95fbb2dd-4bb3-41cf-8dd6-5f06e4721e6e",
   "metadata": {},
   "outputs": [
    {
     "name": "stdout",
     "output_type": "stream",
     "text": [
      " * postgresql://student@/group1\n",
      "20 rows affected.\n"
     ]
    },
    {
     "data": {
      "text/html": [
       "<table>\n",
       "    <thead>\n",
       "        <tr>\n",
       "            <th>scheduled_departure</th>\n",
       "            <th>departure_time</th>\n",
       "            <th>departure_delay</th>\n",
       "            <th>scheduled_arrival</th>\n",
       "            <th>arrival_time</th>\n",
       "            <th>arrival_delay</th>\n",
       "            <th>diverted</th>\n",
       "            <th>cancelled</th>\n",
       "            <th>date_key</th>\n",
       "            <th>origin_airport_key</th>\n",
       "            <th>destination_airport_key</th>\n",
       "            <th>airlines_key</th>\n",
       "            <th>flights_key</th>\n",
       "        </tr>\n",
       "    </thead>\n",
       "    <tbody>\n",
       "        <tr>\n",
       "            <td>5</td>\n",
       "            <td>2354</td>\n",
       "            <td>-11</td>\n",
       "            <td>430</td>\n",
       "            <td>408</td>\n",
       "            <td>-22</td>\n",
       "            <td>0</td>\n",
       "            <td>0</td>\n",
       "            <td>1</td>\n",
       "            <td>305</td>\n",
       "            <td>132</td>\n",
       "            <td>14</td>\n",
       "            <td>21673</td>\n",
       "        </tr>\n",
       "        <tr>\n",
       "            <td>500</td>\n",
       "            <td>452</td>\n",
       "            <td>-8</td>\n",
       "            <td>549</td>\n",
       "            <td>543</td>\n",
       "            <td>-6</td>\n",
       "            <td>0</td>\n",
       "            <td>0</td>\n",
       "            <td>1</td>\n",
       "            <td>174</td>\n",
       "            <td>128</td>\n",
       "            <td>12</td>\n",
       "            <td>22709</td>\n",
       "        </tr>\n",
       "        <tr>\n",
       "            <td>500</td>\n",
       "            <td>513</td>\n",
       "            <td>13</td>\n",
       "            <td>629</td>\n",
       "            <td>638</td>\n",
       "            <td>9</td>\n",
       "            <td>0</td>\n",
       "            <td>0</td>\n",
       "            <td>1</td>\n",
       "            <td>181</td>\n",
       "            <td>302</td>\n",
       "            <td>1</td>\n",
       "            <td>991908</td>\n",
       "        </tr>\n",
       "        <tr>\n",
       "            <td>545</td>\n",
       "            <td>542</td>\n",
       "            <td>-3</td>\n",
       "            <td>904</td>\n",
       "            <td>858</td>\n",
       "            <td>-6</td>\n",
       "            <td>0</td>\n",
       "            <td>0</td>\n",
       "            <td>1</td>\n",
       "            <td>36</td>\n",
       "            <td>233</td>\n",
       "            <td>9</td>\n",
       "            <td>352840</td>\n",
       "        </tr>\n",
       "        <tr>\n",
       "            <td>545</td>\n",
       "            <td>541</td>\n",
       "            <td>-4</td>\n",
       "            <td>1156</td>\n",
       "            <td>1207</td>\n",
       "            <td>11</td>\n",
       "            <td>0</td>\n",
       "            <td>0</td>\n",
       "            <td>1</td>\n",
       "            <td>132</td>\n",
       "            <td>206</td>\n",
       "            <td>9</td>\n",
       "            <td>397459</td>\n",
       "        </tr>\n",
       "        <tr>\n",
       "            <td>545</td>\n",
       "            <td>550</td>\n",
       "            <td>5</td>\n",
       "            <td>814</td>\n",
       "            <td>807</td>\n",
       "            <td>-7</td>\n",
       "            <td>0</td>\n",
       "            <td>0</td>\n",
       "            <td>1</td>\n",
       "            <td>153</td>\n",
       "            <td>206</td>\n",
       "            <td>9</td>\n",
       "            <td>488941</td>\n",
       "        </tr>\n",
       "        <tr>\n",
       "            <td>600</td>\n",
       "            <td>751</td>\n",
       "            <td>111</td>\n",
       "            <td>928</td>\n",
       "            <td>1131</td>\n",
       "            <td>123</td>\n",
       "            <td>0</td>\n",
       "            <td>0</td>\n",
       "            <td>1</td>\n",
       "            <td>200</td>\n",
       "            <td>206</td>\n",
       "            <td>9</td>\n",
       "            <td>67520</td>\n",
       "        </tr>\n",
       "        <tr>\n",
       "            <td>600</td>\n",
       "            <td>600</td>\n",
       "            <td>0</td>\n",
       "            <td>736</td>\n",
       "            <td>735</td>\n",
       "            <td>-1</td>\n",
       "            <td>0</td>\n",
       "            <td>0</td>\n",
       "            <td>1</td>\n",
       "            <td>295</td>\n",
       "            <td>206</td>\n",
       "            <td>9</td>\n",
       "            <td>70453</td>\n",
       "        </tr>\n",
       "        <tr>\n",
       "            <td>600</td>\n",
       "            <td>603</td>\n",
       "            <td>3</td>\n",
       "            <td>853</td>\n",
       "            <td>835</td>\n",
       "            <td>-18</td>\n",
       "            <td>0</td>\n",
       "            <td>0</td>\n",
       "            <td>1</td>\n",
       "            <td>162</td>\n",
       "            <td>293</td>\n",
       "            <td>9</td>\n",
       "            <td>91473</td>\n",
       "        </tr>\n",
       "        <tr>\n",
       "            <td>600</td>\n",
       "            <td>555</td>\n",
       "            <td>-5</td>\n",
       "            <td>850</td>\n",
       "            <td>841</td>\n",
       "            <td>-9</td>\n",
       "            <td>0</td>\n",
       "            <td>0</td>\n",
       "            <td>1</td>\n",
       "            <td>78</td>\n",
       "            <td>132</td>\n",
       "            <td>14</td>\n",
       "            <td>153100</td>\n",
       "        </tr>\n",
       "        <tr>\n",
       "            <td>600</td>\n",
       "            <td>555</td>\n",
       "            <td>-5</td>\n",
       "            <td>735</td>\n",
       "            <td>738</td>\n",
       "            <td>3</td>\n",
       "            <td>0</td>\n",
       "            <td>0</td>\n",
       "            <td>1</td>\n",
       "            <td>320</td>\n",
       "            <td>65</td>\n",
       "            <td>2</td>\n",
       "            <td>786985</td>\n",
       "        </tr>\n",
       "        <tr>\n",
       "            <td>600</td>\n",
       "            <td>556</td>\n",
       "            <td>-4</td>\n",
       "            <td>833</td>\n",
       "            <td>826</td>\n",
       "            <td>-7</td>\n",
       "            <td>0</td>\n",
       "            <td>0</td>\n",
       "            <td>1</td>\n",
       "            <td>92</td>\n",
       "            <td>97</td>\n",
       "            <td>2</td>\n",
       "            <td>787342</td>\n",
       "        </tr>\n",
       "        <tr>\n",
       "            <td>600</td>\n",
       "            <td>555</td>\n",
       "            <td>-5</td>\n",
       "            <td>843</td>\n",
       "            <td>831</td>\n",
       "            <td>-12</td>\n",
       "            <td>0</td>\n",
       "            <td>0</td>\n",
       "            <td>1</td>\n",
       "            <td>110</td>\n",
       "            <td>97</td>\n",
       "            <td>2</td>\n",
       "            <td>803699</td>\n",
       "        </tr>\n",
       "        <tr>\n",
       "            <td>600</td>\n",
       "            <td>552</td>\n",
       "            <td>-8</td>\n",
       "            <td>732</td>\n",
       "            <td>729</td>\n",
       "            <td>-3</td>\n",
       "            <td>0</td>\n",
       "            <td>0</td>\n",
       "            <td>1</td>\n",
       "            <td>214</td>\n",
       "            <td>146</td>\n",
       "            <td>11</td>\n",
       "            <td>994146</td>\n",
       "        </tr>\n",
       "        <tr>\n",
       "            <td>600</td>\n",
       "            <td>556</td>\n",
       "            <td>-4</td>\n",
       "            <td>814</td>\n",
       "            <td>755</td>\n",
       "            <td>-19</td>\n",
       "            <td>0</td>\n",
       "            <td>0</td>\n",
       "            <td>1</td>\n",
       "            <td>11</td>\n",
       "            <td>100</td>\n",
       "            <td>11</td>\n",
       "            <td>1019510</td>\n",
       "        </tr>\n",
       "        <tr>\n",
       "            <td>600</td>\n",
       "            <td>603</td>\n",
       "            <td>3</td>\n",
       "            <td>803</td>\n",
       "            <td>803</td>\n",
       "            <td>0</td>\n",
       "            <td>0</td>\n",
       "            <td>0</td>\n",
       "            <td>1</td>\n",
       "            <td>22</td>\n",
       "            <td>100</td>\n",
       "            <td>11</td>\n",
       "            <td>1023797</td>\n",
       "        </tr>\n",
       "        <tr>\n",
       "            <td>600</td>\n",
       "            <td>600</td>\n",
       "            <td>0</td>\n",
       "            <td>703</td>\n",
       "            <td>703</td>\n",
       "            <td>0</td>\n",
       "            <td>0</td>\n",
       "            <td>0</td>\n",
       "            <td>1</td>\n",
       "            <td>186</td>\n",
       "            <td>100</td>\n",
       "            <td>11</td>\n",
       "            <td>1030029</td>\n",
       "        </tr>\n",
       "        <tr>\n",
       "            <td>600</td>\n",
       "            <td>556</td>\n",
       "            <td>-4</td>\n",
       "            <td>630</td>\n",
       "            <td>619</td>\n",
       "            <td>-11</td>\n",
       "            <td>0</td>\n",
       "            <td>0</td>\n",
       "            <td>1</td>\n",
       "            <td>225</td>\n",
       "            <td>100</td>\n",
       "            <td>11</td>\n",
       "            <td>1032435</td>\n",
       "        </tr>\n",
       "        <tr>\n",
       "            <td>600</td>\n",
       "            <td>616</td>\n",
       "            <td>16</td>\n",
       "            <td>632</td>\n",
       "            <td>651</td>\n",
       "            <td>19</td>\n",
       "            <td>0</td>\n",
       "            <td>0</td>\n",
       "            <td>1</td>\n",
       "            <td>194</td>\n",
       "            <td>100</td>\n",
       "            <td>11</td>\n",
       "            <td>1033300</td>\n",
       "        </tr>\n",
       "        <tr>\n",
       "            <td>600</td>\n",
       "            <td>550</td>\n",
       "            <td>-10</td>\n",
       "            <td>716</td>\n",
       "            <td>713</td>\n",
       "            <td>-3</td>\n",
       "            <td>0</td>\n",
       "            <td>0</td>\n",
       "            <td>1</td>\n",
       "            <td>256</td>\n",
       "            <td>100</td>\n",
       "            <td>11</td>\n",
       "            <td>1033932</td>\n",
       "        </tr>\n",
       "    </tbody>\n",
       "</table>"
      ],
      "text/plain": [
       "[(5, 2354, -11, 430, 408, -22, 0, 0, 1, 305, 132, 14, 21673),\n",
       " (500, 452, -8, 549, 543, -6, 0, 0, 1, 174, 128, 12, 22709),\n",
       " (500, 513, 13, 629, 638, 9, 0, 0, 1, 181, 302, 1, 991908),\n",
       " (545, 542, -3, 904, 858, -6, 0, 0, 1, 36, 233, 9, 352840),\n",
       " (545, 541, -4, 1156, 1207, 11, 0, 0, 1, 132, 206, 9, 397459),\n",
       " (545, 550, 5, 814, 807, -7, 0, 0, 1, 153, 206, 9, 488941),\n",
       " (600, 751, 111, 928, 1131, 123, 0, 0, 1, 200, 206, 9, 67520),\n",
       " (600, 600, 0, 736, 735, -1, 0, 0, 1, 295, 206, 9, 70453),\n",
       " (600, 603, 3, 853, 835, -18, 0, 0, 1, 162, 293, 9, 91473),\n",
       " (600, 555, -5, 850, 841, -9, 0, 0, 1, 78, 132, 14, 153100),\n",
       " (600, 555, -5, 735, 738, 3, 0, 0, 1, 320, 65, 2, 786985),\n",
       " (600, 556, -4, 833, 826, -7, 0, 0, 1, 92, 97, 2, 787342),\n",
       " (600, 555, -5, 843, 831, -12, 0, 0, 1, 110, 97, 2, 803699),\n",
       " (600, 552, -8, 732, 729, -3, 0, 0, 1, 214, 146, 11, 994146),\n",
       " (600, 556, -4, 814, 755, -19, 0, 0, 1, 11, 100, 11, 1019510),\n",
       " (600, 603, 3, 803, 803, 0, 0, 0, 1, 22, 100, 11, 1023797),\n",
       " (600, 600, 0, 703, 703, 0, 0, 0, 1, 186, 100, 11, 1030029),\n",
       " (600, 556, -4, 630, 619, -11, 0, 0, 1, 225, 100, 11, 1032435),\n",
       " (600, 616, 16, 632, 651, 19, 0, 0, 1, 194, 100, 11, 1033300),\n",
       " (600, 550, -10, 716, 713, -3, 0, 0, 1, 256, 100, 11, 1033932)]"
      ]
     },
     "execution_count": 62,
     "metadata": {},
     "output_type": "execute_result"
    }
   ],
   "source": [
    "%%sql\n",
    "select * from F_flights\n",
    "limit 20;"
   ]
  },
  {
   "cell_type": "markdown",
   "id": "360f3ba1-16f6-4e94-b3e2-ff49090b3868",
   "metadata": {},
   "source": [
    "Check the number of records in our fact table. If it shows 5819079 , which is the original number of records in our dataset, then we have succeeded in the wrangling steps."
   ]
  },
  {
   "cell_type": "code",
   "execution_count": 63,
   "id": "49c1c51e-aed8-4134-84b8-f530858a8b31",
   "metadata": {},
   "outputs": [
    {
     "name": "stdout",
     "output_type": "stream",
     "text": [
      " * postgresql://student@/group1\n",
      "1 rows affected.\n"
     ]
    },
    {
     "data": {
      "text/html": [
       "<table>\n",
       "    <thead>\n",
       "        <tr>\n",
       "            <th>count</th>\n",
       "        </tr>\n",
       "    </thead>\n",
       "    <tbody>\n",
       "        <tr>\n",
       "            <td>2262735</td>\n",
       "        </tr>\n",
       "    </tbody>\n",
       "</table>"
      ],
      "text/plain": [
       "[(2262735,)]"
      ]
     },
     "execution_count": 63,
     "metadata": {},
     "output_type": "execute_result"
    }
   ],
   "source": [
    "%%sql\n",
    "select count(*) from F_flights"
   ]
  },
  {
   "cell_type": "markdown",
   "id": "c99c0dd1-c8c4-484d-81e2-bc864de1254b",
   "metadata": {
    "tags": []
   },
   "source": [
    "## Ask 3: Data analysis and visualization"
   ]
  },
  {
   "cell_type": "markdown",
   "id": "4b4d4db2-40de-4124-a7de-2892f2e6cdd1",
   "metadata": {
    "tags": []
   },
   "source": [
    "### Business Question 1:\n",
    "In order to improve the operating efficiency at major airports, the FAA would like to develop a system of reward and punishment based on the performance of major airline carriers. What are some measurements that they could use? And based on the result from the busiest route in USA in 2015, which airline performs the best and which airline performs the worst? "
   ]
  },
  {
   "cell_type": "markdown",
   "id": "f3578a55-dfb6-4a4a-b3c1-b1ab2544f7ec",
   "metadata": {},
   "source": [
    "#### The average method"
   ]
  },
  {
   "cell_type": "markdown",
   "id": "6243b6b2-fa05-4b5b-be98-2ed86abc2878",
   "metadata": {},
   "source": [
    "First, our data scientist thinks that its always good to take a look at the avearges. So we are going to find what that number is for our dataset. "
   ]
  },
  {
   "cell_type": "markdown",
   "id": "b1d3b428-66d3-488d-99e5-dc9bb9cd75a7",
   "metadata": {},
   "source": [
    "#### Avg departure delay of airlines"
   ]
  },
  {
   "cell_type": "markdown",
   "id": "b54c6881-0ceb-45c6-a07f-ba9479bc5c10",
   "metadata": {},
   "source": [
    "We start with departure delay because this type of delay would mean that the flights are using resources such as runway space, air space, operating capacity, etc. This will generate a higher operating cost for the airpots, and for FAA, running at capacity or exceeding it may raise safty concerns as well. By calculating the average, we hope we can provide some insights for regulors so that they can probably using a price ladder to encourage airline carriers to operate more efficiently. "
   ]
  },
  {
   "cell_type": "code",
   "execution_count": 64,
   "id": "a7b467c7-770f-40a7-bb75-ae7e4db27985",
   "metadata": {},
   "outputs": [
    {
     "name": "stdout",
     "output_type": "stream",
     "text": [
      " * postgresql://student@/group1\n",
      "14 rows affected.\n"
     ]
    },
    {
     "data": {
      "text/html": [
       "<table>\n",
       "    <thead>\n",
       "        <tr>\n",
       "            <th>airlines_key</th>\n",
       "            <th>iata_code</th>\n",
       "            <th>airline</th>\n",
       "            <th>total_avg_delay</th>\n",
       "        </tr>\n",
       "    </thead>\n",
       "    <tbody>\n",
       "        <tr>\n",
       "            <td>6</td>\n",
       "            <td>F9 </td>\n",
       "            <td>Frontier Airlines Inc.</td>\n",
       "            <td>35.1200572716748918</td>\n",
       "        </tr>\n",
       "        <tr>\n",
       "            <td>5</td>\n",
       "            <td>NK </td>\n",
       "            <td>Spirit Air Lines</td>\n",
       "            <td>26.4472863381160324</td>\n",
       "        </tr>\n",
       "        <tr>\n",
       "            <td>2</td>\n",
       "            <td>MQ </td>\n",
       "            <td>American Eagle Airlines Inc.</td>\n",
       "            <td>23.7452054161467720</td>\n",
       "        </tr>\n",
       "        <tr>\n",
       "            <td>9</td>\n",
       "            <td>UA </td>\n",
       "            <td>United Air Lines Inc.</td>\n",
       "            <td>19.0493359714913189</td>\n",
       "        </tr>\n",
       "        <tr>\n",
       "            <td>7</td>\n",
       "            <td>B6 </td>\n",
       "            <td>JetBlue Airways</td>\n",
       "            <td>19.0359312872461429</td>\n",
       "        </tr>\n",
       "        <tr>\n",
       "            <td>13</td>\n",
       "            <td>AA </td>\n",
       "            <td>American Airlines Inc.</td>\n",
       "            <td>16.2363352695501896</td>\n",
       "        </tr>\n",
       "        <tr>\n",
       "            <td>11</td>\n",
       "            <td>EV </td>\n",
       "            <td>Atlantic Southeast Airlines</td>\n",
       "            <td>15.6018513414380759</td>\n",
       "        </tr>\n",
       "        <tr>\n",
       "            <td>1</td>\n",
       "            <td>OO </td>\n",
       "            <td>Skywest Airlines Inc.</td>\n",
       "            <td>13.9463174851245695</td>\n",
       "        </tr>\n",
       "        <tr>\n",
       "            <td>8</td>\n",
       "            <td>VX </td>\n",
       "            <td>Virgin America</td>\n",
       "            <td>13.1261690488794777</td>\n",
       "        </tr>\n",
       "        <tr>\n",
       "            <td>4</td>\n",
       "            <td>WN </td>\n",
       "            <td>Southwest Airlines Co.</td>\n",
       "            <td>12.9536101527846230</td>\n",
       "        </tr>\n",
       "        <tr>\n",
       "            <td>3</td>\n",
       "            <td>US </td>\n",
       "            <td>US Airways Inc.</td>\n",
       "            <td>8.8741613211234932</td>\n",
       "        </tr>\n",
       "        <tr>\n",
       "            <td>10</td>\n",
       "            <td>DL </td>\n",
       "            <td>Delta Air Lines Inc.</td>\n",
       "            <td>8.15857336728625665126</td>\n",
       "        </tr>\n",
       "        <tr>\n",
       "            <td>12</td>\n",
       "            <td>HA </td>\n",
       "            <td>Hawaiian Airlines Inc.</td>\n",
       "            <td>3.19032060445170513734</td>\n",
       "        </tr>\n",
       "        <tr>\n",
       "            <td>14</td>\n",
       "            <td>AS </td>\n",
       "            <td>Alaska Airlines Inc.</td>\n",
       "            <td>0.6474534353504908</td>\n",
       "        </tr>\n",
       "    </tbody>\n",
       "</table>"
      ],
      "text/plain": [
       "[(6, 'F9 ', 'Frontier Airlines Inc.', Decimal('35.1200572716748918')),\n",
       " (5, 'NK ', 'Spirit Air Lines', Decimal('26.4472863381160324')),\n",
       " (2, 'MQ ', 'American Eagle Airlines Inc.', Decimal('23.7452054161467720')),\n",
       " (9, 'UA ', 'United Air Lines Inc.', Decimal('19.0493359714913189')),\n",
       " (7, 'B6 ', 'JetBlue Airways', Decimal('19.0359312872461429')),\n",
       " (13, 'AA ', 'American Airlines Inc.', Decimal('16.2363352695501896')),\n",
       " (11, 'EV ', 'Atlantic Southeast Airlines', Decimal('15.6018513414380759')),\n",
       " (1, 'OO ', 'Skywest Airlines Inc.', Decimal('13.9463174851245695')),\n",
       " (8, 'VX ', 'Virgin America', Decimal('13.1261690488794777')),\n",
       " (4, 'WN ', 'Southwest Airlines Co.', Decimal('12.9536101527846230')),\n",
       " (3, 'US ', 'US Airways Inc.', Decimal('8.8741613211234932')),\n",
       " (10, 'DL ', 'Delta Air Lines Inc.', Decimal('8.15857336728625665126')),\n",
       " (12, 'HA ', 'Hawaiian Airlines Inc.', Decimal('3.19032060445170513734')),\n",
       " (14, 'AS ', 'Alaska Airlines Inc.', Decimal('0.6474534353504908'))]"
      ]
     },
     "execution_count": 64,
     "metadata": {},
     "output_type": "execute_result"
    }
   ],
   "source": [
    "%%sql\n",
    "SELECT f.airlines_key , air.iata_code,air.airline, AVG(f.arrival_delay) + AVG(f.departure_delay) as total_avg_delay\n",
    "FROM F_flights as f\n",
    "join Airlines_Dim as air\n",
    "    on f.airlines_key=air.airlines_key\n",
    "GROUP BY f.airlines_key, air.iata_code, air.airline\n",
    "ORDER BY total_avg_delay Desc"
   ]
  },
  {
   "cell_type": "code",
   "execution_count": 65,
   "id": "b3daeb3b-41a1-4c79-bc1c-b8550937df92",
   "metadata": {},
   "outputs": [],
   "source": [
    "%matplotlib inline"
   ]
  },
  {
   "cell_type": "code",
   "execution_count": 66,
   "id": "e3d10ba5-567a-4a00-bcb5-90e047a1ae0b",
   "metadata": {},
   "outputs": [
    {
     "data": {
      "text/plain": [
       "<BarContainer object of 14 artists>"
      ]
     },
     "execution_count": 66,
     "metadata": {},
     "output_type": "execute_result"
    },
    {
     "data": {
      "image/png": "[encoded data removed]",
      "text/plain": [
       "<Figure size 640x480 with 1 Axes>"
      ]
     },
     "metadata": {},
     "output_type": "display_data"
    }
   ],
   "source": [
    "_.bar()"
   ]
  },
  {
   "cell_type": "markdown",
   "id": "abb15e92-0978-45a4-93fb-131662098c61",
   "metadata": {},
   "source": [
    "#### Avg arrival delay of airlines"
   ]
  },
  {
   "cell_type": "markdown",
   "id": "fa8fa74f-3722-4655-a479-0a616e3bda81",
   "metadata": {},
   "source": [
    "We also want to count arrival delay as a factor, because the delay of arrival would also mean that this airline is prone to use more reasources mentioned above. "
   ]
  },
  {
   "cell_type": "code",
   "execution_count": 67,
   "id": "aabe216e-d54e-4b65-8552-6611c1d16b12",
   "metadata": {},
   "outputs": [
    {
     "name": "stdout",
     "output_type": "stream",
     "text": [
      " * postgresql://student@/group1\n",
      "14 rows affected.\n"
     ]
    },
    {
     "data": {
      "text/html": [
       "<table>\n",
       "    <thead>\n",
       "        <tr>\n",
       "            <th>airlines_key</th>\n",
       "            <th>iata_code</th>\n",
       "            <th>airline</th>\n",
       "            <th>avg_arrival_delay</th>\n",
       "        </tr>\n",
       "    </thead>\n",
       "    <tbody>\n",
       "        <tr>\n",
       "            <td>6</td>\n",
       "            <td>F9 </td>\n",
       "            <td>Frontier Airlines Inc.</td>\n",
       "            <td>18.0096569792237860</td>\n",
       "        </tr>\n",
       "        <tr>\n",
       "            <td>5</td>\n",
       "            <td>NK </td>\n",
       "            <td>Spirit Air Lines</td>\n",
       "            <td>12.4880201474087937</td>\n",
       "        </tr>\n",
       "        <tr>\n",
       "            <td>2</td>\n",
       "            <td>MQ </td>\n",
       "            <td>American Eagle Airlines Inc.</td>\n",
       "            <td>11.5088420598610533</td>\n",
       "        </tr>\n",
       "        <tr>\n",
       "            <td>7</td>\n",
       "            <td>B6 </td>\n",
       "            <td>JetBlue Airways</td>\n",
       "            <td>7.4515423427277058</td>\n",
       "        </tr>\n",
       "        <tr>\n",
       "            <td>11</td>\n",
       "            <td>EV </td>\n",
       "            <td>Atlantic Southeast Airlines</td>\n",
       "            <td>6.9510832001153378</td>\n",
       "        </tr>\n",
       "        <tr>\n",
       "            <td>1</td>\n",
       "            <td>OO </td>\n",
       "            <td>Skywest Airlines Inc.</td>\n",
       "            <td>6.0503036203065452</td>\n",
       "        </tr>\n",
       "        <tr>\n",
       "            <td>13</td>\n",
       "            <td>AA </td>\n",
       "            <td>American Airlines Inc.</td>\n",
       "            <td>5.9107628054342086</td>\n",
       "        </tr>\n",
       "        <tr>\n",
       "            <td>9</td>\n",
       "            <td>UA </td>\n",
       "            <td>United Air Lines Inc.</td>\n",
       "            <td>5.4628413375875357</td>\n",
       "        </tr>\n",
       "        <tr>\n",
       "            <td>8</td>\n",
       "            <td>VX </td>\n",
       "            <td>Virgin America</td>\n",
       "            <td>4.1993559202399859</td>\n",
       "        </tr>\n",
       "        <tr>\n",
       "            <td>4</td>\n",
       "            <td>WN </td>\n",
       "            <td>Southwest Airlines Co.</td>\n",
       "            <td>3.3846660916707738</td>\n",
       "        </tr>\n",
       "        <tr>\n",
       "            <td>3</td>\n",
       "            <td>US </td>\n",
       "            <td>US Airways Inc.</td>\n",
       "            <td>3.2840005382924594</td>\n",
       "        </tr>\n",
       "        <tr>\n",
       "            <td>12</td>\n",
       "            <td>HA </td>\n",
       "            <td>Hawaiian Airlines Inc.</td>\n",
       "            <td>2.8551494112041386</td>\n",
       "        </tr>\n",
       "        <tr>\n",
       "            <td>10</td>\n",
       "            <td>DL </td>\n",
       "            <td>Delta Air Lines Inc.</td>\n",
       "            <td>0.65384791326756225126</td>\n",
       "        </tr>\n",
       "        <tr>\n",
       "            <td>14</td>\n",
       "            <td>AS </td>\n",
       "            <td>Alaska Airlines Inc.</td>\n",
       "            <td>-1.1992580570368653</td>\n",
       "        </tr>\n",
       "    </tbody>\n",
       "</table>"
      ],
      "text/plain": [
       "[(6, 'F9 ', 'Frontier Airlines Inc.', Decimal('18.0096569792237860')),\n",
       " (5, 'NK ', 'Spirit Air Lines', Decimal('12.4880201474087937')),\n",
       " (2, 'MQ ', 'American Eagle Airlines Inc.', Decimal('11.5088420598610533')),\n",
       " (7, 'B6 ', 'JetBlue Airways', Decimal('7.4515423427277058')),\n",
       " (11, 'EV ', 'Atlantic Southeast Airlines', Decimal('6.9510832001153378')),\n",
       " (1, 'OO ', 'Skywest Airlines Inc.', Decimal('6.0503036203065452')),\n",
       " (13, 'AA ', 'American Airlines Inc.', Decimal('5.9107628054342086')),\n",
       " (9, 'UA ', 'United Air Lines Inc.', Decimal('5.4628413375875357')),\n",
       " (8, 'VX ', 'Virgin America', Decimal('4.1993559202399859')),\n",
       " (4, 'WN ', 'Southwest Airlines Co.', Decimal('3.3846660916707738')),\n",
       " (3, 'US ', 'US Airways Inc.', Decimal('3.2840005382924594')),\n",
       " (12, 'HA ', 'Hawaiian Airlines Inc.', Decimal('2.8551494112041386')),\n",
       " (10, 'DL ', 'Delta Air Lines Inc.', Decimal('0.65384791326756225126')),\n",
       " (14, 'AS ', 'Alaska Airlines Inc.', Decimal('-1.1992580570368653'))]"
      ]
     },
     "execution_count": 67,
     "metadata": {},
     "output_type": "execute_result"
    }
   ],
   "source": [
    "%%sql\n",
    "SELECT f.airlines_key , air.iata_code,air.airline, AVG(f.arrival_delay) as avg_arrival_delay\n",
    "FROM F_flights as f\n",
    "join Airlines_Dim as air\n",
    "    on f.airlines_key=air.airlines_key\n",
    "GROUP BY f.airlines_key, air.iata_code, air.airline\n",
    "ORDER BY avg_arrival_delay Desc"
   ]
  },
  {
   "cell_type": "code",
   "execution_count": 68,
   "id": "8c87d2d9-bdf8-4ae9-ba08-182a58827aef",
   "metadata": {},
   "outputs": [],
   "source": [
    "%matplotlib inline"
   ]
  },
  {
   "cell_type": "code",
   "execution_count": 69,
   "id": "ee59cf1b-ff86-4f55-a6a7-e1aef2d693f7",
   "metadata": {},
   "outputs": [
    {
     "data": {
      "text/plain": [
       "<BarContainer object of 14 artists>"
      ]
     },
     "execution_count": 69,
     "metadata": {},
     "output_type": "execute_result"
    },
    {
     "data": {
      "image/png": "[encoded data removed]",
      "text/plain": [
       "<Figure size 640x480 with 1 Axes>"
      ]
     },
     "metadata": {},
     "output_type": "display_data"
    }
   ],
   "source": [
    "_.bar()"
   ]
  },
  {
   "cell_type": "markdown",
   "id": "c42c4ce8-c9fa-4659-ae39-27d817c20067",
   "metadata": {},
   "source": [
    "#### The Percentage of delay Method"
   ]
  },
  {
   "cell_type": "markdown",
   "id": "848bdad3-867f-4d73-8958-29bdb1e95e0c",
   "metadata": {},
   "source": [
    "Afterwards, we are going to set up another performance measurement criteria that seems to be more . The Federal Aviation Administration (FAA) considers a flight to be delayed when it is 15 minutes later than its scheduled time. As a result, we will use a 15 minutes delay as threshold to measure the percentage of flight delays that is less than or equal to 15 minutes. But Why 15 minutes? Interestingly, few airlines strive to be 100 percent on time. In fact, reaching 100 percent OTP is all but impossible, and if achieved, it would have a negative effect on profits and financial performance. External factors ranging from weather, poorly located airport gates, industrial disputes or long immigration queues all can result in delays. Airlines plan with 15-minute criteria and typically aim to achieve around 85 percent to-90 percent OTP throughout the year. Planning for a shorter time period of 10 minutes and striving to achieve a higher OTP level of 95 percent  would require additional resources and lead to higher airfares for some travelers. A requirement for additional resources in terms of aircraft, crew and supporting operations woulbdn't make sense. For the best economic value for both airlines and customers, we choose 15 minutes as a threshold as the definition of delay. "
   ]
  },
  {
   "cell_type": "markdown",
   "id": "fe8b47de-4831-40f8-a339-aa3567ec52cf",
   "metadata": {},
   "source": [
    "#### Finding the busiest Air route. "
   ]
  },
  {
   "cell_type": "markdown",
   "id": "23847e33-9753-4fce-aca7-1870d05cf1aa",
   "metadata": {},
   "source": [
    "In order to put this criteria into use, we think it would make more sense to specify this performance criteria by route than calculating the universal statistics like above. As a result, we are using the busiest airline route to demostrate, it would be connecting the 2 airports, which obviously, has the most count of departure flights and arrival flights."
   ]
  },
  {
   "cell_type": "code",
   "execution_count": 70,
   "id": "3d29b89e-d217-40cb-a99d-d693531e9c79",
   "metadata": {},
   "outputs": [
    {
     "name": "stdout",
     "output_type": "stream",
     "text": [
      " * postgresql://student@/group1\n",
      "6 rows affected.\n"
     ]
    },
    {
     "data": {
      "text/html": [
       "<table>\n",
       "    <thead>\n",
       "        <tr>\n",
       "            <th>origin_airport_key</th>\n",
       "            <th>destination_airport_key</th>\n",
       "            <th>total_flight</th>\n",
       "        </tr>\n",
       "    </thead>\n",
       "    <tbody>\n",
       "        <tr>\n",
       "            <td>78</td>\n",
       "            <td>65</td>\n",
       "            <td>5286</td>\n",
       "        </tr>\n",
       "        <tr>\n",
       "            <td>65</td>\n",
       "            <td>78</td>\n",
       "            <td>5284</td>\n",
       "        </tr>\n",
       "        <tr>\n",
       "            <td>302</td>\n",
       "            <td>78</td>\n",
       "            <td>5271</td>\n",
       "        </tr>\n",
       "        <tr>\n",
       "            <td>78</td>\n",
       "            <td>302</td>\n",
       "            <td>5161</td>\n",
       "        </tr>\n",
       "        <tr>\n",
       "            <td>73</td>\n",
       "            <td>78</td>\n",
       "            <td>4279</td>\n",
       "        </tr>\n",
       "        <tr>\n",
       "            <td>290</td>\n",
       "            <td>100</td>\n",
       "            <td>4145</td>\n",
       "        </tr>\n",
       "    </tbody>\n",
       "</table>"
      ],
      "text/plain": [
       "[(78, 65, 5286),\n",
       " (65, 78, 5284),\n",
       " (302, 78, 5271),\n",
       " (78, 302, 5161),\n",
       " (73, 78, 4279),\n",
       " (290, 100, 4145)]"
      ]
     },
     "execution_count": 70,
     "metadata": {},
     "output_type": "execute_result"
    }
   ],
   "source": [
    "%%sql\n",
    "select origin_airport_key,destination_airport_key,count(*) as total_flight \n",
    "from F_flights\n",
    "group by origin_airport_key,destination_airport_key\n",
    "order by total_flight desc \n",
    "limit 6\n"
   ]
  },
  {
   "cell_type": "markdown",
   "id": "0fb86598-fe5b-45f8-9fdd-9f3535d71c11",
   "metadata": {},
   "source": [
    "After reffering to the airport key table, we found that the busiest route is A to B. So, we are combining the flgiht route A to B along with the flight route B to A, so that it counts both incoming flights and outgoing flights of those two airports. "
   ]
  },
  {
   "cell_type": "code",
   "execution_count": 71,
   "id": "5bf695f9-d58c-4301-89e7-516b91040746",
   "metadata": {},
   "outputs": [
    {
     "name": "stdout",
     "output_type": "stream",
     "text": [
      " * postgresql://student@/group1\n",
      "10 rows affected.\n"
     ]
    },
    {
     "data": {
      "text/html": [
       "<table>\n",
       "    <thead>\n",
       "        <tr>\n",
       "            <th>route</th>\n",
       "            <th>total_flights</th>\n",
       "        </tr>\n",
       "    </thead>\n",
       "    <tbody>\n",
       "        <tr>\n",
       "            <td>78,65</td>\n",
       "            <td>10570</td>\n",
       "        </tr>\n",
       "        <tr>\n",
       "            <td>302,78</td>\n",
       "            <td>10432</td>\n",
       "        </tr>\n",
       "        <tr>\n",
       "            <td>78,73</td>\n",
       "            <td>8421</td>\n",
       "        </tr>\n",
       "        <tr>\n",
       "            <td>290,100</td>\n",
       "            <td>8261</td>\n",
       "        </tr>\n",
       "        <tr>\n",
       "            <td>252,174</td>\n",
       "            <td>7260</td>\n",
       "        </tr>\n",
       "        <tr>\n",
       "            <td>302,65</td>\n",
       "            <td>7178</td>\n",
       "        </tr>\n",
       "        <tr>\n",
       "            <td>290,146</td>\n",
       "            <td>7071</td>\n",
       "        </tr>\n",
       "        <tr>\n",
       "            <td>290,242</td>\n",
       "            <td>7039</td>\n",
       "        </tr>\n",
       "        <tr>\n",
       "            <td>293,146</td>\n",
       "            <td>6876</td>\n",
       "        </tr>\n",
       "        <tr>\n",
       "            <td>242,153</td>\n",
       "            <td>6728</td>\n",
       "        </tr>\n",
       "    </tbody>\n",
       "</table>"
      ],
      "text/plain": [
       "[('78,65', 10570),\n",
       " ('302,78', 10432),\n",
       " ('78,73', 8421),\n",
       " ('290,100', 8261),\n",
       " ('252,174', 7260),\n",
       " ('302,65', 7178),\n",
       " ('290,146', 7071),\n",
       " ('290,242', 7039),\n",
       " ('293,146', 6876),\n",
       " ('242,153', 6728)]"
      ]
     },
     "execution_count": 71,
     "metadata": {},
     "output_type": "execute_result"
    }
   ],
   "source": [
    "%%sql\n",
    "with t1 as (\n",
    "select case when cast(origin_airport_key as integer) > cast(destination_airport_key as integer) then concat(origin_airport_key,',',destination_airport_key) else concat(destination_airport_key,',',origin_airport_key) end as route,\n",
    "origin_airport_key,destination_airport_key\n",
    "from F_flights)\n",
    "select route , count(*) as total_flights\n",
    "from t1 \n",
    "group by route\n",
    "order by total_flights desc\n",
    "limit 10 "
   ]
  },
  {
   "cell_type": "markdown",
   "id": "914e254c-0814-48c8-ad84-c1e271d6ffe2",
   "metadata": {},
   "source": [
    "#### Calculating the percentage of arrival delay. "
   ]
  },
  {
   "cell_type": "markdown",
   "id": "8e1363bb-fd11-46c6-b5d4-e24da6256927",
   "metadata": {},
   "source": [
    "Here we put the 15 minute thershhold into use. "
   ]
  },
  {
   "cell_type": "code",
   "execution_count": 72,
   "id": "6790c6d4-e4a1-48a5-ac36-04f77d211b8d",
   "metadata": {},
   "outputs": [
    {
     "name": "stdout",
     "output_type": "stream",
     "text": [
      " * postgresql://student@/group1\n",
      "5 rows affected.\n"
     ]
    },
    {
     "data": {
      "text/html": [
       "<table>\n",
       "    <thead>\n",
       "        <tr>\n",
       "            <th>airlines_key</th>\n",
       "            <th>total_flights</th>\n",
       "            <th>total_delay_flights</th>\n",
       "            <th>delay_percent</th>\n",
       "        </tr>\n",
       "    </thead>\n",
       "    <tbody>\n",
       "        <tr>\n",
       "            <td>1</td>\n",
       "            <td>219</td>\n",
       "            <td>46</td>\n",
       "            <td>21</td>\n",
       "        </tr>\n",
       "        <tr>\n",
       "            <td>4</td>\n",
       "            <td>2648</td>\n",
       "            <td>633</td>\n",
       "            <td>23</td>\n",
       "        </tr>\n",
       "        <tr>\n",
       "            <td>8</td>\n",
       "            <td>2560</td>\n",
       "            <td>525</td>\n",
       "            <td>20</td>\n",
       "        </tr>\n",
       "        <tr>\n",
       "            <td>9</td>\n",
       "            <td>3307</td>\n",
       "            <td>717</td>\n",
       "            <td>21</td>\n",
       "        </tr>\n",
       "        <tr>\n",
       "            <td>13</td>\n",
       "            <td>1698</td>\n",
       "            <td>347</td>\n",
       "            <td>20</td>\n",
       "        </tr>\n",
       "    </tbody>\n",
       "</table>"
      ],
      "text/plain": [
       "[(1, 219, 46, 21),\n",
       " (4, 2648, 633, 23),\n",
       " (8, 2560, 525, 20),\n",
       " (9, 3307, 717, 21),\n",
       " (13, 1698, 347, 20)]"
      ]
     },
     "execution_count": 72,
     "metadata": {},
     "output_type": "execute_result"
    }
   ],
   "source": [
    "%%sql \n",
    "with t1 as (\n",
    "select case when cast(origin_airport_key as integer) > cast(destination_airport_key as integer) then concat(origin_airport_key,',',destination_airport_key) else concat(destination_airport_key,',',origin_airport_key) end as route,\n",
    "origin_airport_key,destination_airport_key,airlines_key, case when arrival_delay > 15 then 1 else 0 end as delay\n",
    "from F_flights),\n",
    "t2 as (select airlines_key,count(*) as total_flights,sum(delay) as total_delay_flights\n",
    "from t1 \n",
    "where route = '302,78'\n",
    "group by airlines_key)\n",
    "select * ,(total_delay_flights*100)/total_flights as delay_percent \n",
    "from t2 "
   ]
  },
  {
   "cell_type": "code",
   "execution_count": 73,
   "id": "a56f52cd-a5b3-4b4b-a882-1e6d40d33720",
   "metadata": {},
   "outputs": [],
   "source": [
    "%matplotlib inline"
   ]
  },
  {
   "cell_type": "code",
   "execution_count": 74,
   "id": "aaad66dc-5dcd-44b8-8dd8-52f390d6fd65",
   "metadata": {},
   "outputs": [
    {
     "data": {
      "text/plain": [
       "<BarContainer object of 5 artists>"
      ]
     },
     "execution_count": 74,
     "metadata": {},
     "output_type": "execute_result"
    },
    {
     "data": {
      "image/png": "[encoded data removed]",
      "text/plain": [
       "<Figure size 640x480 with 1 Axes>"
      ]
     },
     "metadata": {},
     "output_type": "display_data"
    }
   ],
   "source": [
    "_.bar()"
   ]
  },
  {
   "cell_type": "markdown",
   "id": "1ce2239a-fad3-4117-8c9c-394d029c74a2",
   "metadata": {},
   "source": [
    "pic"
   ]
  },
  {
   "cell_type": "code",
   "execution_count": 75,
   "id": "e7a1cd82-e268-4b36-a585-5dfd6d5003da",
   "metadata": {},
   "outputs": [
    {
     "name": "stdout",
     "output_type": "stream",
     "text": [
      " * postgresql://student@/group1\n",
      "28 rows affected.\n"
     ]
    },
    {
     "data": {
      "text/html": [
       "<table>\n",
       "    <thead>\n",
       "        <tr>\n",
       "            <th>airline</th>\n",
       "            <th>delay</th>\n",
       "            <th>cnt</th>\n",
       "            <th>total_cnt</th>\n",
       "            <th>percentage_rate</th>\n",
       "        </tr>\n",
       "    </thead>\n",
       "    <tbody>\n",
       "        <tr>\n",
       "            <td>Alaska Airlines Inc.</td>\n",
       "            <td>Late</td>\n",
       "            <td>8305</td>\n",
       "            <td>64695</td>\n",
       "            <td>0.12837158976736995</td>\n",
       "        </tr>\n",
       "        <tr>\n",
       "            <td>Alaska Airlines Inc.</td>\n",
       "            <td>On Time</td>\n",
       "            <td>56390</td>\n",
       "            <td>64695</td>\n",
       "            <td>0.87162841023263</td>\n",
       "        </tr>\n",
       "        <tr>\n",
       "            <td>American Airlines Inc.</td>\n",
       "            <td>Late</td>\n",
       "            <td>42076</td>\n",
       "            <td>208310</td>\n",
       "            <td>0.20198742259133023</td>\n",
       "        </tr>\n",
       "        <tr>\n",
       "            <td>American Airlines Inc.</td>\n",
       "            <td>On Time</td>\n",
       "            <td>166234</td>\n",
       "            <td>208310</td>\n",
       "            <td>0.7980125774086698</td>\n",
       "        </tr>\n",
       "        <tr>\n",
       "            <td>American Eagle Airlines Inc.</td>\n",
       "            <td>Late</td>\n",
       "            <td>33501</td>\n",
       "            <td>129834</td>\n",
       "            <td>0.2580294838023938</td>\n",
       "        </tr>\n",
       "        <tr>\n",
       "            <td>American Eagle Airlines Inc.</td>\n",
       "            <td>On Time</td>\n",
       "            <td>96333</td>\n",
       "            <td>129834</td>\n",
       "            <td>0.7419705161976061</td>\n",
       "        </tr>\n",
       "        <tr>\n",
       "            <td>Atlantic Southeast Airlines</td>\n",
       "            <td>Late</td>\n",
       "            <td>47502</td>\n",
       "            <td>235829</td>\n",
       "            <td>0.20142560923380926</td>\n",
       "        </tr>\n",
       "        <tr>\n",
       "            <td>Atlantic Southeast Airlines</td>\n",
       "            <td>On Time</td>\n",
       "            <td>188327</td>\n",
       "            <td>235829</td>\n",
       "            <td>0.7985743907661907</td>\n",
       "        </tr>\n",
       "        <tr>\n",
       "            <td>Delta Air Lines Inc.</td>\n",
       "            <td>Late</td>\n",
       "            <td>45870</td>\n",
       "            <td>327905</td>\n",
       "            <td>0.1398880773394733</td>\n",
       "        </tr>\n",
       "        <tr>\n",
       "            <td>Delta Air Lines Inc.</td>\n",
       "            <td>On Time</td>\n",
       "            <td>282035</td>\n",
       "            <td>327905</td>\n",
       "            <td>0.8601119226605267</td>\n",
       "        </tr>\n",
       "        <tr>\n",
       "            <td>Frontier Airlines Inc.</td>\n",
       "            <td>Late</td>\n",
       "            <td>10357</td>\n",
       "            <td>32826</td>\n",
       "            <td>0.3155120940717724</td>\n",
       "        </tr>\n",
       "        <tr>\n",
       "            <td>Frontier Airlines Inc.</td>\n",
       "            <td>On Time</td>\n",
       "            <td>22469</td>\n",
       "            <td>32826</td>\n",
       "            <td>0.6844879059282276</td>\n",
       "        </tr>\n",
       "        <tr>\n",
       "            <td>Hawaiian Airlines Inc.</td>\n",
       "            <td>Late</td>\n",
       "            <td>3573</td>\n",
       "            <td>29382</td>\n",
       "            <td>0.121605064325097</td>\n",
       "        </tr>\n",
       "        <tr>\n",
       "            <td>Hawaiian Airlines Inc.</td>\n",
       "            <td>On Time</td>\n",
       "            <td>25809</td>\n",
       "            <td>29382</td>\n",
       "            <td>0.878394935674903</td>\n",
       "        </tr>\n",
       "        <tr>\n",
       "            <td>JetBlue Airways</td>\n",
       "            <td>Late</td>\n",
       "            <td>23996</td>\n",
       "            <td>102863</td>\n",
       "            <td>0.23328116037836735</td>\n",
       "        </tr>\n",
       "        <tr>\n",
       "            <td>JetBlue Airways</td>\n",
       "            <td>On Time</td>\n",
       "            <td>78867</td>\n",
       "            <td>102863</td>\n",
       "            <td>0.7667188396216327</td>\n",
       "        </tr>\n",
       "        <tr>\n",
       "            <td>Skywest Airlines Inc.</td>\n",
       "            <td>Late</td>\n",
       "            <td>43074</td>\n",
       "            <td>229069</td>\n",
       "            <td>0.18803941170564328</td>\n",
       "        </tr>\n",
       "        <tr>\n",
       "            <td>Skywest Airlines Inc.</td>\n",
       "            <td>On Time</td>\n",
       "            <td>185995</td>\n",
       "            <td>229069</td>\n",
       "            <td>0.8119605882943567</td>\n",
       "        </tr>\n",
       "        <tr>\n",
       "            <td>Southwest Airlines Co.</td>\n",
       "            <td>Late</td>\n",
       "            <td>88882</td>\n",
       "            <td>486960</td>\n",
       "            <td>0.18252423196977163</td>\n",
       "        </tr>\n",
       "        <tr>\n",
       "            <td>Southwest Airlines Co.</td>\n",
       "            <td>On Time</td>\n",
       "            <td>398078</td>\n",
       "            <td>486960</td>\n",
       "            <td>0.8174757680302284</td>\n",
       "        </tr>\n",
       "        <tr>\n",
       "            <td>Spirit Air Lines</td>\n",
       "            <td>Late</td>\n",
       "            <td>12155</td>\n",
       "            <td>43281</td>\n",
       "            <td>0.2808391673020494</td>\n",
       "        </tr>\n",
       "        <tr>\n",
       "            <td>Spirit Air Lines</td>\n",
       "            <td>On Time</td>\n",
       "            <td>31126</td>\n",
       "            <td>43281</td>\n",
       "            <td>0.7191608326979506</td>\n",
       "        </tr>\n",
       "        <tr>\n",
       "            <td>US Airways Inc.</td>\n",
       "            <td>Late</td>\n",
       "            <td>28325</td>\n",
       "            <td>156049</td>\n",
       "            <td>0.18151349896506866</td>\n",
       "        </tr>\n",
       "        <tr>\n",
       "            <td>US Airways Inc.</td>\n",
       "            <td>On Time</td>\n",
       "            <td>127724</td>\n",
       "            <td>156049</td>\n",
       "            <td>0.8184865010349314</td>\n",
       "        </tr>\n",
       "        <tr>\n",
       "            <td>United Air Lines Inc.</td>\n",
       "            <td>Late</td>\n",
       "            <td>40857</td>\n",
       "            <td>193064</td>\n",
       "            <td>0.21162412464260555</td>\n",
       "        </tr>\n",
       "        <tr>\n",
       "            <td>United Air Lines Inc.</td>\n",
       "            <td>On Time</td>\n",
       "            <td>152207</td>\n",
       "            <td>193064</td>\n",
       "            <td>0.7883758753573944</td>\n",
       "        </tr>\n",
       "        <tr>\n",
       "            <td>Virgin America</td>\n",
       "            <td>Late</td>\n",
       "            <td>4280</td>\n",
       "            <td>22668</td>\n",
       "            <td>0.1888124227986589</td>\n",
       "        </tr>\n",
       "        <tr>\n",
       "            <td>Virgin America</td>\n",
       "            <td>On Time</td>\n",
       "            <td>18388</td>\n",
       "            <td>22668</td>\n",
       "            <td>0.811187577201341</td>\n",
       "        </tr>\n",
       "    </tbody>\n",
       "</table>"
      ],
      "text/plain": [
       "[('Alaska Airlines Inc.', 'Late', 8305, Decimal('64695'), 0.12837158976736995),\n",
       " ('Alaska Airlines Inc.', 'On Time', 56390, Decimal('64695'), 0.87162841023263),\n",
       " ('American Airlines Inc.', 'Late', 42076, Decimal('208310'), 0.20198742259133023),\n",
       " ('American Airlines Inc.', 'On Time', 166234, Decimal('208310'), 0.7980125774086698),\n",
       " ('American Eagle Airlines Inc.', 'Late', 33501, Decimal('129834'), 0.2580294838023938),\n",
       " ('American Eagle Airlines Inc.', 'On Time', 96333, Decimal('129834'), 0.7419705161976061),\n",
       " ('Atlantic Southeast Airlines', 'Late', 47502, Decimal('235829'), 0.20142560923380926),\n",
       " ('Atlantic Southeast Airlines', 'On Time', 188327, Decimal('235829'), 0.7985743907661907),\n",
       " ('Delta Air Lines Inc.', 'Late', 45870, Decimal('327905'), 0.1398880773394733),\n",
       " ('Delta Air Lines Inc.', 'On Time', 282035, Decimal('327905'), 0.8601119226605267),\n",
       " ('Frontier Airlines Inc.', 'Late', 10357, Decimal('32826'), 0.3155120940717724),\n",
       " ('Frontier Airlines Inc.', 'On Time', 22469, Decimal('32826'), 0.6844879059282276),\n",
       " ('Hawaiian Airlines Inc.', 'Late', 3573, Decimal('29382'), 0.121605064325097),\n",
       " ('Hawaiian Airlines Inc.', 'On Time', 25809, Decimal('29382'), 0.878394935674903),\n",
       " ('JetBlue Airways', 'Late', 23996, Decimal('102863'), 0.23328116037836735),\n",
       " ('JetBlue Airways', 'On Time', 78867, Decimal('102863'), 0.7667188396216327),\n",
       " ('Skywest Airlines Inc.', 'Late', 43074, Decimal('229069'), 0.18803941170564328),\n",
       " ('Skywest Airlines Inc.', 'On Time', 185995, Decimal('229069'), 0.8119605882943567),\n",
       " ('Southwest Airlines Co.', 'Late', 88882, Decimal('486960'), 0.18252423196977163),\n",
       " ('Southwest Airlines Co.', 'On Time', 398078, Decimal('486960'), 0.8174757680302284),\n",
       " ('Spirit Air Lines', 'Late', 12155, Decimal('43281'), 0.2808391673020494),\n",
       " ('Spirit Air Lines', 'On Time', 31126, Decimal('43281'), 0.7191608326979506),\n",
       " ('US Airways Inc.', 'Late', 28325, Decimal('156049'), 0.18151349896506866),\n",
       " ('US Airways Inc.', 'On Time', 127724, Decimal('156049'), 0.8184865010349314),\n",
       " ('United Air Lines Inc.', 'Late', 40857, Decimal('193064'), 0.21162412464260555),\n",
       " ('United Air Lines Inc.', 'On Time', 152207, Decimal('193064'), 0.7883758753573944),\n",
       " ('Virgin America', 'Late', 4280, Decimal('22668'), 0.1888124227986589),\n",
       " ('Virgin America', 'On Time', 18388, Decimal('22668'), 0.811187577201341)]"
      ]
     },
     "execution_count": 75,
     "metadata": {},
     "output_type": "execute_result"
    }
   ],
   "source": [
    "%%sql\n",
    "SELECT \n",
    "a.airline,\n",
    "CASE\n",
    "    WHEN (f.arrival_delay)  < 15 THEN 'On Time'\n",
    "    ELSE 'Late'\n",
    "END as delay,\n",
    "COUNT(*) AS cnt,\n",
    "SUM(COUNT(*))OVER(PARTITION BY a.airline) AS total_cnt,\n",
    "COUNT(*)/SUM(COUNT(*))OVER(PARTITION BY a.airline )::float  AS Percentage_Rate\n",
    "FROM F_flights f \n",
    "INNER JOIN date_dim d  ON  f.date_key=d.date_key\n",
    "INNER JOIN airlines_dim a ON f.airlines_key=a.airlines_key\n",
    "GROUP BY 1,2;"
   ]
  },
  {
   "cell_type": "markdown",
   "id": "3c24ac8d-440e-499e-8ec6-878cb1f874ec",
   "metadata": {},
   "source": [
    "## --> need visual"
   ]
  },
  {
   "cell_type": "markdown",
   "id": "5ceb289f-9f3d-40da-8beb-bba1a1171a2a",
   "metadata": {},
   "source": [
    "#### Calculating the percentage of Departure delay"
   ]
  },
  {
   "cell_type": "code",
   "execution_count": 76,
   "id": "ca282c93-82a3-49cb-9ccb-c663e15ad5f1",
   "metadata": {},
   "outputs": [
    {
     "name": "stdout",
     "output_type": "stream",
     "text": [
      " * postgresql://student@/group1\n",
      "5 rows affected.\n"
     ]
    },
    {
     "data": {
      "text/html": [
       "<table>\n",
       "    <thead>\n",
       "        <tr>\n",
       "            <th>airlines_key</th>\n",
       "            <th>total_flights</th>\n",
       "            <th>total_delay_flights</th>\n",
       "            <th>delay_percent</th>\n",
       "        </tr>\n",
       "    </thead>\n",
       "    <tbody>\n",
       "        <tr>\n",
       "            <td>1</td>\n",
       "            <td>219</td>\n",
       "            <td>44</td>\n",
       "            <td>20</td>\n",
       "        </tr>\n",
       "        <tr>\n",
       "            <td>4</td>\n",
       "            <td>2648</td>\n",
       "            <td>635</td>\n",
       "            <td>23</td>\n",
       "        </tr>\n",
       "        <tr>\n",
       "            <td>8</td>\n",
       "            <td>2560</td>\n",
       "            <td>474</td>\n",
       "            <td>18</td>\n",
       "        </tr>\n",
       "        <tr>\n",
       "            <td>9</td>\n",
       "            <td>3307</td>\n",
       "            <td>689</td>\n",
       "            <td>20</td>\n",
       "        </tr>\n",
       "        <tr>\n",
       "            <td>13</td>\n",
       "            <td>1698</td>\n",
       "            <td>303</td>\n",
       "            <td>17</td>\n",
       "        </tr>\n",
       "    </tbody>\n",
       "</table>"
      ],
      "text/plain": [
       "[(1, 219, 44, 20),\n",
       " (4, 2648, 635, 23),\n",
       " (8, 2560, 474, 18),\n",
       " (9, 3307, 689, 20),\n",
       " (13, 1698, 303, 17)]"
      ]
     },
     "execution_count": 76,
     "metadata": {},
     "output_type": "execute_result"
    }
   ],
   "source": [
    "%%sql \n",
    "with t1 as (\n",
    "select case when cast(origin_airport_key as integer) > cast(destination_airport_key as integer) then concat(origin_airport_key,',',destination_airport_key) else concat(destination_airport_key,',',origin_airport_key) end as route,\n",
    "origin_airport_key,destination_airport_key,airlines_key, case when departure_delay > 15 then 1 else 0 end as delay\n",
    "from F_flights),\n",
    "t2 as (select airlines_key,count(*) as total_flights,sum(delay) as total_delay_flights\n",
    "from t1 \n",
    "where route = '302,78'\n",
    "group by airlines_key)\n",
    "select * ,(total_delay_flights*100)/total_flights as delay_percent \n",
    "from t2 "
   ]
  },
  {
   "cell_type": "code",
   "execution_count": 77,
   "id": "8d28b558-f59a-448d-9b3e-1824b4bca3ef",
   "metadata": {},
   "outputs": [],
   "source": [
    "%matplotlib inline"
   ]
  },
  {
   "cell_type": "code",
   "execution_count": 78,
   "id": "a6b53288-23e1-4469-8b5d-bf4485944b18",
   "metadata": {},
   "outputs": [
    {
     "data": {
      "text/plain": [
       "<BarContainer object of 5 artists>"
      ]
     },
     "execution_count": 78,
     "metadata": {},
     "output_type": "execute_result"
    },
    {
     "data": {
      "image/png": "[encoded data removed]",
      "text/plain": [
       "<Figure size 640x480 with 1 Axes>"
      ]
     },
     "metadata": {},
     "output_type": "display_data"
    }
   ],
   "source": [
    "_.bar()"
   ]
  },
  {
   "cell_type": "markdown",
   "id": "08389612-306f-475f-97d0-57efc502b1e9",
   "metadata": {},
   "source": [
    "pic"
   ]
  },
  {
   "cell_type": "markdown",
   "id": "de8d0d05-8e18-4577-a4a7-fd70c1cdb0c1",
   "metadata": {},
   "source": [
    "### Question 2 : DC airports(DCA,IAD) to NYU(JFK) "
   ]
  },
  {
   "cell_type": "markdown",
   "id": "e6855701-9ec8-48a4-895f-571b93e24472",
   "metadata": {},
   "source": [
    "In the second question, we are shifting our focus from regulaors to cusotmers. "
   ]
  },
  {
   "cell_type": "markdown",
   "id": "ee993d98-1ec6-46ac-9303-b91306fb51b0",
   "metadata": {},
   "source": [
    "During what time period, does the air route from Washington D.C. to New York sees the most delays? What are the reason for delays? Advices that we can give to airlines to better improve their service. "
   ]
  },
  {
   "cell_type": "markdown",
   "id": "d364ec11-4bfd-40c5-aa1e-08221ae5b1c0",
   "metadata": {},
   "source": [
    "For customers: calculating arrival delay"
   ]
  },
  {
   "cell_type": "code",
   "execution_count": 91,
   "id": "f8564e63-d0e1-4eae-b726-a631395697b1",
   "metadata": {
    "tags": []
   },
   "outputs": [
    {
     "name": "stdout",
     "output_type": "stream",
     "text": [
      " * postgresql://student@/group1\n",
      "6 rows affected.\n"
     ]
    },
    {
     "data": {
      "text/html": [
       "<table>\n",
       "    <thead>\n",
       "        <tr>\n",
       "            <th>airline</th>\n",
       "            <th>year</th>\n",
       "            <th>month</th>\n",
       "            <th>delay</th>\n",
       "            <th>cnt</th>\n",
       "            <th>total_cnt</th>\n",
       "            <th>?column?</th>\n",
       "        </tr>\n",
       "    </thead>\n",
       "    <tbody>\n",
       "        <tr>\n",
       "            <td>Alaska Airlines Inc.</td>\n",
       "            <td>2015</td>\n",
       "            <td>1</td>\n",
       "            <td>Late</td>\n",
       "            <td>1939</td>\n",
       "            <td>13257</td>\n",
       "            <td>0.14626235196499962</td>\n",
       "        </tr>\n",
       "        <tr>\n",
       "            <td>Alaska Airlines Inc.</td>\n",
       "            <td>2015</td>\n",
       "            <td>1</td>\n",
       "            <td>On Time</td>\n",
       "            <td>11318</td>\n",
       "            <td>13257</td>\n",
       "            <td>0.8537376480350004</td>\n",
       "        </tr>\n",
       "        <tr>\n",
       "            <td>Alaska Airlines Inc.</td>\n",
       "            <td>2015</td>\n",
       "            <td>2</td>\n",
       "            <td>Late</td>\n",
       "            <td>1652</td>\n",
       "            <td>12194</td>\n",
       "            <td>0.1354764638346728</td>\n",
       "        </tr>\n",
       "        <tr>\n",
       "            <td>Alaska Airlines Inc.</td>\n",
       "            <td>2015</td>\n",
       "            <td>2</td>\n",
       "            <td>On Time</td>\n",
       "            <td>10542</td>\n",
       "            <td>12194</td>\n",
       "            <td>0.8645235361653272</td>\n",
       "        </tr>\n",
       "        <tr>\n",
       "            <td>Alaska Airlines Inc.</td>\n",
       "            <td>2015</td>\n",
       "            <td>3</td>\n",
       "            <td>Late</td>\n",
       "            <td>1970</td>\n",
       "            <td>14276</td>\n",
       "            <td>0.13799383580834967</td>\n",
       "        </tr>\n",
       "        <tr>\n",
       "            <td>Alaska Airlines Inc.</td>\n",
       "            <td>2015</td>\n",
       "            <td>3</td>\n",
       "            <td>On Time</td>\n",
       "            <td>12306</td>\n",
       "            <td>14276</td>\n",
       "            <td>0.8620061641916503</td>\n",
       "        </tr>\n",
       "    </tbody>\n",
       "</table>"
      ],
      "text/plain": [
       "[('Alaska Airlines Inc.', 2015, 1, 'Late', 1939, Decimal('13257'), 0.14626235196499962),\n",
       " ('Alaska Airlines Inc.', 2015, 1, 'On Time', 11318, Decimal('13257'), 0.8537376480350004),\n",
       " ('Alaska Airlines Inc.', 2015, 2, 'Late', 1652, Decimal('12194'), 0.1354764638346728),\n",
       " ('Alaska Airlines Inc.', 2015, 2, 'On Time', 10542, Decimal('12194'), 0.8645235361653272),\n",
       " ('Alaska Airlines Inc.', 2015, 3, 'Late', 1970, Decimal('14276'), 0.13799383580834967),\n",
       " ('Alaska Airlines Inc.', 2015, 3, 'On Time', 12306, Decimal('14276'), 0.8620061641916503)]"
      ]
     },
     "execution_count": 91,
     "metadata": {},
     "output_type": "execute_result"
    }
   ],
   "source": [
    "%%sql\n",
    "SELECT \n",
    "a.airline,d.year, d.month,\n",
    "CASE\n",
    "    WHEN (f.arrival_delay)  < 15 THEN 'On Time'\n",
    "    ELSE 'Late'\n",
    "END as delay,\n",
    "COUNT(*) AS cnt,\n",
    "SUM(COUNT(*))OVER(PARTITION BY a.airline,d.year, d.month ) AS total_cnt,\n",
    "COUNT(*)/SUM(COUNT(*))OVER(PARTITION BY a.airline,d.year, d.month )::float \n",
    "FROM F_flights f \n",
    "INNER JOIN date_dim d  ON  f.date_key=d.date_key\n",
    "INNER JOIN airlines_dim a ON f.airlines_key=a.airlines_key\n",
    "GROUP BY 1,2,3,4\n",
    "Limit 6;"
   ]
  },
  {
   "cell_type": "code",
   "execution_count": 81,
   "id": "c6055903-c664-4cfa-82ac-fbd0be55172f",
   "metadata": {},
   "outputs": [
    {
     "name": "stdout",
     "output_type": "stream",
     "text": [
      " * postgresql://student@/group1\n",
      "15 rows affected.\n"
     ]
    },
    {
     "data": {
      "text/html": [
       "<table>\n",
       "    <thead>\n",
       "        <tr>\n",
       "            <th>airline</th>\n",
       "            <th>year</th>\n",
       "            <th>month</th>\n",
       "            <th>delay</th>\n",
       "            <th>cnt</th>\n",
       "            <th>total_cnt</th>\n",
       "            <th>r</th>\n",
       "        </tr>\n",
       "    </thead>\n",
       "    <tbody>\n",
       "        <tr>\n",
       "            <td>American Airlines Inc.</td>\n",
       "            <td>2015</td>\n",
       "            <td>1</td>\n",
       "            <td>On Time</td>\n",
       "            <td>11</td>\n",
       "            <td>31</td>\n",
       "            <td>0.3548387096774194</td>\n",
       "        </tr>\n",
       "        <tr>\n",
       "            <td>American Airlines Inc.</td>\n",
       "            <td>2015</td>\n",
       "            <td>2</td>\n",
       "            <td>On Time</td>\n",
       "            <td>12</td>\n",
       "            <td>27</td>\n",
       "            <td>0.4444444444444444</td>\n",
       "        </tr>\n",
       "        <tr>\n",
       "            <td>American Airlines Inc.</td>\n",
       "            <td>2015</td>\n",
       "            <td>3</td>\n",
       "            <td>On Time</td>\n",
       "            <td>12</td>\n",
       "            <td>31</td>\n",
       "            <td>0.3870967741935484</td>\n",
       "        </tr>\n",
       "        <tr>\n",
       "            <td>American Airlines Inc.</td>\n",
       "            <td>2015</td>\n",
       "            <td>4</td>\n",
       "            <td>On Time</td>\n",
       "            <td>20</td>\n",
       "            <td>30</td>\n",
       "            <td>0.6666666666666666</td>\n",
       "        </tr>\n",
       "        <tr>\n",
       "            <td>American Airlines Inc.</td>\n",
       "            <td>2015</td>\n",
       "            <td>5</td>\n",
       "            <td>On Time</td>\n",
       "            <td>13</td>\n",
       "            <td>23</td>\n",
       "            <td>0.5652173913043478</td>\n",
       "        </tr>\n",
       "        <tr>\n",
       "            <td>American Eagle Airlines Inc.</td>\n",
       "            <td>2015</td>\n",
       "            <td>1</td>\n",
       "            <td>On Time</td>\n",
       "            <td>103</td>\n",
       "            <td>154</td>\n",
       "            <td>0.6688311688311688</td>\n",
       "        </tr>\n",
       "        <tr>\n",
       "            <td>American Eagle Airlines Inc.</td>\n",
       "            <td>2015</td>\n",
       "            <td>2</td>\n",
       "            <td>On Time</td>\n",
       "            <td>93</td>\n",
       "            <td>140</td>\n",
       "            <td>0.6642857142857143</td>\n",
       "        </tr>\n",
       "        <tr>\n",
       "            <td>American Eagle Airlines Inc.</td>\n",
       "            <td>2015</td>\n",
       "            <td>3</td>\n",
       "            <td>On Time</td>\n",
       "            <td>105</td>\n",
       "            <td>144</td>\n",
       "            <td>0.7291666666666666</td>\n",
       "        </tr>\n",
       "        <tr>\n",
       "            <td>American Eagle Airlines Inc.</td>\n",
       "            <td>2015</td>\n",
       "            <td>4</td>\n",
       "            <td>On Time</td>\n",
       "            <td>23</td>\n",
       "            <td>30</td>\n",
       "            <td>0.7666666666666667</td>\n",
       "        </tr>\n",
       "        <tr>\n",
       "            <td>American Eagle Airlines Inc.</td>\n",
       "            <td>2015</td>\n",
       "            <td>5</td>\n",
       "            <td>On Time</td>\n",
       "            <td>19</td>\n",
       "            <td>23</td>\n",
       "            <td>0.8260869565217391</td>\n",
       "        </tr>\n",
       "        <tr>\n",
       "            <td>JetBlue Airways</td>\n",
       "            <td>2015</td>\n",
       "            <td>1</td>\n",
       "            <td>On Time</td>\n",
       "            <td>64</td>\n",
       "            <td>88</td>\n",
       "            <td>0.7272727272727273</td>\n",
       "        </tr>\n",
       "        <tr>\n",
       "            <td>JetBlue Airways</td>\n",
       "            <td>2015</td>\n",
       "            <td>2</td>\n",
       "            <td>On Time</td>\n",
       "            <td>58</td>\n",
       "            <td>80</td>\n",
       "            <td>0.725</td>\n",
       "        </tr>\n",
       "        <tr>\n",
       "            <td>JetBlue Airways</td>\n",
       "            <td>2015</td>\n",
       "            <td>3</td>\n",
       "            <td>On Time</td>\n",
       "            <td>77</td>\n",
       "            <td>88</td>\n",
       "            <td>0.875</td>\n",
       "        </tr>\n",
       "        <tr>\n",
       "            <td>JetBlue Airways</td>\n",
       "            <td>2015</td>\n",
       "            <td>4</td>\n",
       "            <td>On Time</td>\n",
       "            <td>67</td>\n",
       "            <td>86</td>\n",
       "            <td>0.7790697674418605</td>\n",
       "        </tr>\n",
       "        <tr>\n",
       "            <td>JetBlue Airways</td>\n",
       "            <td>2015</td>\n",
       "            <td>5</td>\n",
       "            <td>On Time</td>\n",
       "            <td>51</td>\n",
       "            <td>66</td>\n",
       "            <td>0.7727272727272727</td>\n",
       "        </tr>\n",
       "    </tbody>\n",
       "</table>"
      ],
      "text/plain": [
       "[('American Airlines Inc.', 2015, 1, 'On Time', 11, Decimal('31'), 0.3548387096774194),\n",
       " ('American Airlines Inc.', 2015, 2, 'On Time', 12, Decimal('27'), 0.4444444444444444),\n",
       " ('American Airlines Inc.', 2015, 3, 'On Time', 12, Decimal('31'), 0.3870967741935484),\n",
       " ('American Airlines Inc.', 2015, 4, 'On Time', 20, Decimal('30'), 0.6666666666666666),\n",
       " ('American Airlines Inc.', 2015, 5, 'On Time', 13, Decimal('23'), 0.5652173913043478),\n",
       " ('American Eagle Airlines Inc.', 2015, 1, 'On Time', 103, Decimal('154'), 0.6688311688311688),\n",
       " ('American Eagle Airlines Inc.', 2015, 2, 'On Time', 93, Decimal('140'), 0.6642857142857143),\n",
       " ('American Eagle Airlines Inc.', 2015, 3, 'On Time', 105, Decimal('144'), 0.7291666666666666),\n",
       " ('American Eagle Airlines Inc.', 2015, 4, 'On Time', 23, Decimal('30'), 0.7666666666666667),\n",
       " ('American Eagle Airlines Inc.', 2015, 5, 'On Time', 19, Decimal('23'), 0.8260869565217391),\n",
       " ('JetBlue Airways', 2015, 1, 'On Time', 64, Decimal('88'), 0.7272727272727273),\n",
       " ('JetBlue Airways', 2015, 2, 'On Time', 58, Decimal('80'), 0.725),\n",
       " ('JetBlue Airways', 2015, 3, 'On Time', 77, Decimal('88'), 0.875),\n",
       " ('JetBlue Airways', 2015, 4, 'On Time', 67, Decimal('86'), 0.7790697674418605),\n",
       " ('JetBlue Airways', 2015, 5, 'On Time', 51, Decimal('66'), 0.7727272727272727)]"
      ]
     },
     "execution_count": 81,
     "metadata": {},
     "output_type": "execute_result"
    }
   ],
   "source": [
    "%%sql\n",
    "SELECT * FROM (\n",
    "SELECT \n",
    "a.airline,d.year, d.month,\n",
    "CASE\n",
    "    WHEN (f.arrival_delay)  < 15 THEN 'On Time'\n",
    "    ELSE 'Late'\n",
    "END as delay,\n",
    "COUNT(*) AS cnt,\n",
    "SUM(COUNT(*))OVER(PARTITION BY a.airline,d.year, d.month ) AS total_cnt,\n",
    "COUNT(*)/SUM(COUNT(*))OVER(PARTITION BY a.airline,d.year, d.month )::float  AS R \n",
    "FROM F_flights f \n",
    "INNER JOIN date_dim d  ON  f.date_key=d.date_key\n",
    "INNER JOIN airlines_dim a ON f.airlines_key=a.airlines_key\n",
    "WHERE  origin_airport_key in (select airports_key from airports_dim WHERE iata_code in ('DCA','IAD'))\n",
    "and destination_airport_key in (select airports_key from airports_dim WHERE iata_code in ('JFK'))\n",
    "GROUP BY 1,2,3,4\n",
    ") AS T \n",
    "WHERE delay='On Time';"
   ]
  },
  {
   "cell_type": "code",
   "execution_count": 82,
   "id": "c60c97ed-25d3-4daf-a7af-aaaaa698e7c9",
   "metadata": {},
   "outputs": [
    {
     "name": "stdout",
     "output_type": "stream",
     "text": [
      " * postgresql://student@/group1\n",
      "15 rows affected.\n"
     ]
    },
    {
     "data": {
      "text/html": [
       "<table>\n",
       "    <thead>\n",
       "        <tr>\n",
       "            <th>airline</th>\n",
       "            <th>year</th>\n",
       "            <th>month</th>\n",
       "            <th>delay</th>\n",
       "            <th>cnt</th>\n",
       "            <th>total_cnt</th>\n",
       "            <th>r</th>\n",
       "        </tr>\n",
       "    </thead>\n",
       "    <tbody>\n",
       "        <tr>\n",
       "            <td>American Airlines Inc.</td>\n",
       "            <td>2015</td>\n",
       "            <td>1</td>\n",
       "            <td>On Time</td>\n",
       "            <td>12</td>\n",
       "            <td>31</td>\n",
       "            <td>0.3870967741935484</td>\n",
       "        </tr>\n",
       "        <tr>\n",
       "            <td>American Airlines Inc.</td>\n",
       "            <td>2015</td>\n",
       "            <td>2</td>\n",
       "            <td>On Time</td>\n",
       "            <td>8</td>\n",
       "            <td>27</td>\n",
       "            <td>0.2962962962962963</td>\n",
       "        </tr>\n",
       "        <tr>\n",
       "            <td>American Airlines Inc.</td>\n",
       "            <td>2015</td>\n",
       "            <td>3</td>\n",
       "            <td>On Time</td>\n",
       "            <td>10</td>\n",
       "            <td>31</td>\n",
       "            <td>0.3225806451612903</td>\n",
       "        </tr>\n",
       "        <tr>\n",
       "            <td>American Airlines Inc.</td>\n",
       "            <td>2015</td>\n",
       "            <td>4</td>\n",
       "            <td>On Time</td>\n",
       "            <td>19</td>\n",
       "            <td>30</td>\n",
       "            <td>0.6333333333333333</td>\n",
       "        </tr>\n",
       "        <tr>\n",
       "            <td>American Airlines Inc.</td>\n",
       "            <td>2015</td>\n",
       "            <td>5</td>\n",
       "            <td>On Time</td>\n",
       "            <td>14</td>\n",
       "            <td>23</td>\n",
       "            <td>0.6086956521739131</td>\n",
       "        </tr>\n",
       "        <tr>\n",
       "            <td>American Eagle Airlines Inc.</td>\n",
       "            <td>2015</td>\n",
       "            <td>1</td>\n",
       "            <td>On Time</td>\n",
       "            <td>95</td>\n",
       "            <td>154</td>\n",
       "            <td>0.6168831168831169</td>\n",
       "        </tr>\n",
       "        <tr>\n",
       "            <td>American Eagle Airlines Inc.</td>\n",
       "            <td>2015</td>\n",
       "            <td>2</td>\n",
       "            <td>On Time</td>\n",
       "            <td>84</td>\n",
       "            <td>140</td>\n",
       "            <td>0.6</td>\n",
       "        </tr>\n",
       "        <tr>\n",
       "            <td>American Eagle Airlines Inc.</td>\n",
       "            <td>2015</td>\n",
       "            <td>3</td>\n",
       "            <td>On Time</td>\n",
       "            <td>96</td>\n",
       "            <td>144</td>\n",
       "            <td>0.6666666666666666</td>\n",
       "        </tr>\n",
       "        <tr>\n",
       "            <td>American Eagle Airlines Inc.</td>\n",
       "            <td>2015</td>\n",
       "            <td>4</td>\n",
       "            <td>On Time</td>\n",
       "            <td>22</td>\n",
       "            <td>30</td>\n",
       "            <td>0.7333333333333333</td>\n",
       "        </tr>\n",
       "        <tr>\n",
       "            <td>American Eagle Airlines Inc.</td>\n",
       "            <td>2015</td>\n",
       "            <td>5</td>\n",
       "            <td>On Time</td>\n",
       "            <td>16</td>\n",
       "            <td>23</td>\n",
       "            <td>0.6956521739130435</td>\n",
       "        </tr>\n",
       "        <tr>\n",
       "            <td>JetBlue Airways</td>\n",
       "            <td>2015</td>\n",
       "            <td>1</td>\n",
       "            <td>On Time</td>\n",
       "            <td>63</td>\n",
       "            <td>88</td>\n",
       "            <td>0.7159090909090909</td>\n",
       "        </tr>\n",
       "        <tr>\n",
       "            <td>JetBlue Airways</td>\n",
       "            <td>2015</td>\n",
       "            <td>2</td>\n",
       "            <td>On Time</td>\n",
       "            <td>54</td>\n",
       "            <td>80</td>\n",
       "            <td>0.675</td>\n",
       "        </tr>\n",
       "        <tr>\n",
       "            <td>JetBlue Airways</td>\n",
       "            <td>2015</td>\n",
       "            <td>3</td>\n",
       "            <td>On Time</td>\n",
       "            <td>75</td>\n",
       "            <td>88</td>\n",
       "            <td>0.8522727272727273</td>\n",
       "        </tr>\n",
       "        <tr>\n",
       "            <td>JetBlue Airways</td>\n",
       "            <td>2015</td>\n",
       "            <td>4</td>\n",
       "            <td>On Time</td>\n",
       "            <td>64</td>\n",
       "            <td>86</td>\n",
       "            <td>0.7441860465116279</td>\n",
       "        </tr>\n",
       "        <tr>\n",
       "            <td>JetBlue Airways</td>\n",
       "            <td>2015</td>\n",
       "            <td>5</td>\n",
       "            <td>On Time</td>\n",
       "            <td>49</td>\n",
       "            <td>66</td>\n",
       "            <td>0.7424242424242424</td>\n",
       "        </tr>\n",
       "    </tbody>\n",
       "</table>"
      ],
      "text/plain": [
       "[('American Airlines Inc.', 2015, 1, 'On Time', 12, Decimal('31'), 0.3870967741935484),\n",
       " ('American Airlines Inc.', 2015, 2, 'On Time', 8, Decimal('27'), 0.2962962962962963),\n",
       " ('American Airlines Inc.', 2015, 3, 'On Time', 10, Decimal('31'), 0.3225806451612903),\n",
       " ('American Airlines Inc.', 2015, 4, 'On Time', 19, Decimal('30'), 0.6333333333333333),\n",
       " ('American Airlines Inc.', 2015, 5, 'On Time', 14, Decimal('23'), 0.6086956521739131),\n",
       " ('American Eagle Airlines Inc.', 2015, 1, 'On Time', 95, Decimal('154'), 0.6168831168831169),\n",
       " ('American Eagle Airlines Inc.', 2015, 2, 'On Time', 84, Decimal('140'), 0.6),\n",
       " ('American Eagle Airlines Inc.', 2015, 3, 'On Time', 96, Decimal('144'), 0.6666666666666666),\n",
       " ('American Eagle Airlines Inc.', 2015, 4, 'On Time', 22, Decimal('30'), 0.7333333333333333),\n",
       " ('American Eagle Airlines Inc.', 2015, 5, 'On Time', 16, Decimal('23'), 0.6956521739130435),\n",
       " ('JetBlue Airways', 2015, 1, 'On Time', 63, Decimal('88'), 0.7159090909090909),\n",
       " ('JetBlue Airways', 2015, 2, 'On Time', 54, Decimal('80'), 0.675),\n",
       " ('JetBlue Airways', 2015, 3, 'On Time', 75, Decimal('88'), 0.8522727272727273),\n",
       " ('JetBlue Airways', 2015, 4, 'On Time', 64, Decimal('86'), 0.7441860465116279),\n",
       " ('JetBlue Airways', 2015, 5, 'On Time', 49, Decimal('66'), 0.7424242424242424)]"
      ]
     },
     "execution_count": 82,
     "metadata": {},
     "output_type": "execute_result"
    }
   ],
   "source": [
    "%%sql\n",
    "SELECT * FROM (\n",
    "SELECT \n",
    "a.airline,d.year, d.month,\n",
    "CASE\n",
    "    WHEN (f.arrival_delay + f.departure_delay)  < 15 THEN 'On Time'\n",
    "    WHEN (f.arrival_delay + f.departure_delay)  BETWEEN  15  and  20 THEN 'Late'\n",
    "    ELSE 'Very Late'\n",
    "END as delay,\n",
    "COUNT(*) AS cnt,\n",
    "SUM(COUNT(*))OVER(PARTITION BY a.airline,d.year, d.month ) AS total_cnt,\n",
    "COUNT(*)/SUM(COUNT(*))OVER(PARTITION BY a.airline,d.year, d.month )::float  AS R \n",
    "FROM F_flights f \n",
    "INNER JOIN date_dim d  ON  f.date_key=d.date_key\n",
    "INNER JOIN airlines_dim a ON f.airlines_key=a.airlines_key\n",
    "WHERE  origin_airport_key in (select airports_key from airports_dim WHERE iata_code in ('DCA','IAD'))\n",
    "and destination_airport_key in (select airports_key from airports_dim WHERE iata_code in ('JFK'))\n",
    "GROUP BY 1,2,3,4\n",
    ") AS T \n",
    "WHERE delay='On Time';"
   ]
  }
 ],
 "metadata": {
  "kernelspec": {
   "display_name": "Python 3 (ipykernel)",
   "language": "python",
   "name": "python3"
  },
  "language_info": {
   "codemirror_mode": {
    "name": "ipython",
    "version": 3
   },
   "file_extension": ".py",
   "mimetype": "text/x-python",
   "name": "python",
   "nbconvert_exporter": "python",
   "pygments_lexer": "ipython3",
   "version": "3.9.7"
  }
 },
 "nbformat": 4,
 "nbformat_minor": 5
}
